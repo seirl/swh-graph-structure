{
 "cells": [
  {
   "cell_type": "markdown",
   "id": "61da45fb-44cc-47d9-88ed-2e900210b242",
   "metadata": {},
   "source": [
    "**The Graph Structure of Public Software Development**\n",
    "\n",
    "Antoine Pietri(1), Guillaume Rousseau(2) and Stefano Zacchiroli(3)\n",
    "\n",
    "1. Inria, Paris, France. antoine.pietri@inria.fr\n",
    "2. Université de Paris, Paris, France. guillaume.rousseau@u-paris.fr\n",
    "3. LTCI, Télécom Paris, Institut Polytechnique de Paris, Paris, France. stefano.zacchiroli@telecom-paris.fr\n",
    "\n",
    "**TODO: Add citation string**\n",
    "\n",
    "# Replication Package : Quality and Data Integrity"
   ]
  },
  {
   "cell_type": "code",
   "execution_count": 1,
   "id": "71f99159",
   "metadata": {},
   "outputs": [],
   "source": [
    "from pathlib import Path\n",
    "import matplotlib.pyplot as plt\n",
    "import numpy as np\n",
    "import tabulate\n",
    "from IPython.display import HTML, display\n",
    "import json\n",
    "\n",
    "import common\n",
    "\n",
    "\n",
    "DATASET = Path('../experiments')\n",
    "\n",
    "def d(p):\n",
    "    x, y = common.load_text_distribution(p)\n",
    "    return common.Distribution(x, y, '', '', '')\n",
    "\n",
    "distributions = {\n",
    "    'In-degrees': [\n",
    "        (\"Full\", d(DATASET / 'inout/full_in.txt')),\n",
    "        (\"Filesystem\", d(DATASET / 'inout/dir+cnt_in.txt')),\n",
    "        (\"Commit\", d(DATASET / 'inout/rev_in.txt')),\n",
    "        (\"History\", d(DATASET / 'inout/rel+rev_in.txt')),\n",
    "        (\"Hosting\", d(DATASET / 'inout/ori+snp_in.txt')),\n",
    "    ],\n",
    "    'Out-degrees': [\n",
    "        (\"Full\", d(DATASET / 'inout/full_out.txt')),\n",
    "        (\"Filesystem\", d(DATASET / 'inout/dir+cnt_out.txt')),\n",
    "        (\"Commit\", d(DATASET / 'inout/rev_out.txt')),\n",
    "        (\"History\", d(DATASET / 'inout/rel+rev_out.txt')),\n",
    "        (\"Hosting\", d(DATASET / 'inout/ori+snp_out.txt')),\n",
    "    ],\n",
    "    'Connected components': [\n",
    "        (\"Full\", d(DATASET / 'connectedcomponents/full/distribution.txt')),\n",
    "        (\"Filesystem\", d(DATASET / 'connectedcomponents/dir+cnt/distribution.txt')),\n",
    "        (\"Commit\", d(DATASET / 'connectedcomponents/rev/distribution.txt')),\n",
    "        (\"History\", d(DATASET / 'connectedcomponents/rel+rev/distribution.txt')),\n",
    "        (\"Hosting\", d(DATASET / 'connectedcomponents/ori+snp/distribution.txt')),\n",
    "    ],\n",
    "    'Clustering coefficient': [\n",
    "        (\"Full\", d(DATASET / 'clusteringcoeff/distribution-full.txt')),\n",
    "        (\"Filesystem\", d(DATASET / 'clusteringcoeff/distribution-dircnt.txt')),\n",
    "        (\"Commit\", d(DATASET / 'clusteringcoeff/distribution-rev.txt')),\n",
    "        (\"History\", d(DATASET / 'clusteringcoeff/distribution-relrev.txt')),\n",
    "        # (\"Hosting\", d(DATASET / 'clusteringcoeff/distribution-orisnp.txt')),\n",
    "    ],\n",
    "    'Shortest path': [\n",
    "        (\"Filesystem\", d(DATASET / 'shortestpath/dir+cnt/distribution.txt')),\n",
    "        (\"Commit\", d(DATASET / 'shortestpath/rev/distribution.txt')),\n",
    "    ]\n",
    "}"
   ]
  },
  {
   "cell_type": "markdown",
   "id": "a1c312a2",
   "metadata": {},
   "source": [
    "## Graph statistics (node and edge types)"
   ]
  },
  {
   "cell_type": "code",
   "execution_count": 2,
   "id": "61b07fe1",
   "metadata": {},
   "outputs": [
    {
     "data": {
      "text/html": [
       "<table>\n",
       "<thead>\n",
       "<tr><th>Node type  </th><th style=\"text-align: right;\">     Nodes</th><th style=\"text-align: right;\">         %</th></tr>\n",
       "</thead>\n",
       "<tbody>\n",
       "<tr><td>contents   </td><td style=\"text-align: right;\">9152847293</td><td style=\"text-align: right;\">47.3487   </td></tr>\n",
       "<tr><td>directories</td><td style=\"text-align: right;\">7897590134</td><td style=\"text-align: right;\">40.8551   </td></tr>\n",
       "<tr><td>origins    </td><td style=\"text-align: right;\"> 147453557</td><td style=\"text-align: right;\"> 0.762793 </td></tr>\n",
       "<tr><td>releases   </td><td style=\"text-align: right;\">  16539537</td><td style=\"text-align: right;\"> 0.0855608</td></tr>\n",
       "<tr><td>revisions  </td><td style=\"text-align: right;\">1976476233</td><td style=\"text-align: right;\">10.2245   </td></tr>\n",
       "<tr><td>snapshots  </td><td style=\"text-align: right;\"> 139832772</td><td style=\"text-align: right;\"> 0.72337  </td></tr>\n",
       "</tbody>\n",
       "</table>"
      ],
      "text/plain": [
       "<IPython.core.display.HTML object>"
      ]
     },
     "metadata": {},
     "output_type": "display_data"
    },
    {
     "data": {
      "text/html": [
       "<table>\n",
       "<thead>\n",
       "<tr><th>Edge type                </th><th style=\"text-align: right;\">       Edges</th><th style=\"text-align: right;\">           %</th></tr>\n",
       "</thead>\n",
       "<tbody>\n",
       "<tr><td>directories → contents   </td><td style=\"text-align: right;\">149267317723</td><td style=\"text-align: right;\">67.3929     </td></tr>\n",
       "<tr><td>directories → directories</td><td style=\"text-align: right;\"> 64584351336</td><td style=\"text-align: right;\">29.1593     </td></tr>\n",
       "<tr><td>directories → revisions  </td><td style=\"text-align: right;\">   792196260</td><td style=\"text-align: right;\"> 0.35767    </td></tr>\n",
       "<tr><td>origins → snapshots      </td><td style=\"text-align: right;\">   776112709</td><td style=\"text-align: right;\"> 0.350408   </td></tr>\n",
       "<tr><td>releases → contents      </td><td style=\"text-align: right;\">        1066</td><td style=\"text-align: right;\"> 4.8129e-07 </td></tr>\n",
       "<tr><td>releases → directories   </td><td style=\"text-align: right;\">        1678</td><td style=\"text-align: right;\"> 7.57603e-07</td></tr>\n",
       "<tr><td>releases → releases      </td><td style=\"text-align: right;\">       38219</td><td style=\"text-align: right;\"> 1.72556e-05</td></tr>\n",
       "<tr><td>releases → revisions     </td><td style=\"text-align: right;\">    16492908</td><td style=\"text-align: right;\"> 0.00744641 </td></tr>\n",
       "<tr><td>revisions → directories  </td><td style=\"text-align: right;\">  1971187167</td><td style=\"text-align: right;\"> 0.889974   </td></tr>\n",
       "<tr><td>revisions → revisions    </td><td style=\"text-align: right;\">  2021009703</td><td style=\"text-align: right;\"> 0.912469   </td></tr>\n",
       "<tr><td>snapshots → contents     </td><td style=\"text-align: right;\">        2100</td><td style=\"text-align: right;\"> 9.48132e-07</td></tr>\n",
       "<tr><td>snapshots → directories  </td><td style=\"text-align: right;\">         677</td><td style=\"text-align: right;\"> 3.0566e-07 </td></tr>\n",
       "<tr><td>snapshots → releases     </td><td style=\"text-align: right;\">   700823546</td><td style=\"text-align: right;\"> 0.316416   </td></tr>\n",
       "<tr><td>snapshots → revisions    </td><td style=\"text-align: right;\">  1358538567</td><td style=\"text-align: right;\"> 0.613369   </td></tr>\n",
       "</tbody>\n",
       "</table>"
      ],
      "text/plain": [
       "<IPython.core.display.HTML object>"
      ]
     },
     "metadata": {},
     "output_type": "display_data"
    }
   ],
   "source": [
    "node_stats = {k: int(v) for k, v in [l.split() for l in (DATASET / 'stats/graph.nodes.stats.txt').read_text().strip().split('\\n')]}\n",
    "edge_stats = {k: int(v) for k, v in [l.split() for l in (DATASET / 'stats/graph.edges.stats.txt').read_text().strip().split('\\n')]}\n",
    "node_count = sum(node_stats.values())\n",
    "edge_count = sum(edge_stats.values())\n",
    "\n",
    "display(HTML(tabulate.tabulate(\n",
    "    [[common.types_verbose[k], v, v / node_count * 100] for k, v in node_stats.items()],\n",
    "    headers=[\"Node type\", \"Nodes\", \"%\"],\n",
    "    tablefmt='html'\n",
    ")))\n",
    "\n",
    "display(HTML(tabulate.tabulate(\n",
    "    [[\"{} → {}\".format(common.types_verbose[k.split(':')[0]], common.types_verbose[k.split(':')[1]]), v, v / edge_count * 100] for k, v in edge_stats.items()],\n",
    "    headers=[\"Edge type\", \"Edges\", \"%\"],\n",
    "    tablefmt='html'\n",
    ")))"
   ]
  },
  {
   "cell_type": "markdown",
   "id": "fef5d673",
   "metadata": {},
   "source": [
    "## Per-layer distribution statistics\n",
    "\n",
    "Statistics of the graph layers and their associated distributions, as reported in the article."
   ]
  },
  {
   "cell_type": "code",
   "execution_count": 3,
   "id": "f6592ce3",
   "metadata": {},
   "outputs": [
    {
     "data": {
      "text/html": [
       "<table>\n",
       "<thead>\n",
       "<tr><th>Algorithm             </th><th>Layer     </th><th>Number of objects  </th><th style=\"text-align: right;\">  Scaling parameter</th><th style=\"text-align: right;\">  X decades</th><th style=\"text-align: right;\">  Y decades</th></tr>\n",
       "</thead>\n",
       "<tbody>\n",
       "<tr><td>In-degrees            </td><td>Full      </td><td>19,330,739,526     </td><td style=\"text-align: right;\">            1.86533</td><td style=\"text-align: right;\">    8.47619</td><td style=\"text-align: right;\">   10.1453 </td></tr>\n",
       "<tr><td>In-degrees            </td><td>Filesystem</td><td>17,050,437,427     </td><td style=\"text-align: right;\">            1.86295</td><td style=\"text-align: right;\">    8.47619</td><td style=\"text-align: right;\">   10.0273 </td></tr>\n",
       "<tr><td>In-degrees            </td><td>Commit    </td><td>1,976,476,233      </td><td style=\"text-align: right;\">            2.20457</td><td style=\"text-align: right;\">    5.84003</td><td style=\"text-align: right;\">    9.23299</td></tr>\n",
       "<tr><td>In-degrees            </td><td>History   </td><td>1,993,015,770      </td><td style=\"text-align: right;\">            2.14762</td><td style=\"text-align: right;\">    5.84003</td><td style=\"text-align: right;\">    9.23155</td></tr>\n",
       "<tr><td>In-degrees            </td><td>Hosting   </td><td>287,286,329        </td><td style=\"text-align: right;\">            2.76256</td><td style=\"text-align: right;\">    7.03349</td><td style=\"text-align: right;\">    8.16881</td></tr>\n",
       "<tr><td>Out-degrees           </td><td>Full      </td><td>19,330,739,526     </td><td style=\"text-align: right;\">            1.94752</td><td style=\"text-align: right;\">    6.01419</td><td style=\"text-align: right;\">    9.96291</td></tr>\n",
       "<tr><td>Out-degrees           </td><td>Filesystem</td><td>17,050,437,427     </td><td style=\"text-align: right;\">            1.94683</td><td style=\"text-align: right;\">    6.01419</td><td style=\"text-align: right;\">    9.96169</td></tr>\n",
       "<tr><td>Out-degrees           </td><td>Commit    </td><td>1,976,476,233      </td><td style=\"text-align: right;\">            5.80822</td><td style=\"text-align: right;\">    5      </td><td style=\"text-align: right;\">    9.24394</td></tr>\n",
       "<tr><td>Out-degrees           </td><td>History   </td><td>1,993,015,770      </td><td style=\"text-align: right;\">            5.80822</td><td style=\"text-align: right;\">    5      </td><td style=\"text-align: right;\">    9.24802</td></tr>\n",
       "<tr><td>Out-degrees           </td><td>Hosting   </td><td>287,286,329        </td><td style=\"text-align: right;\">            2.20614</td><td style=\"text-align: right;\">    4.98671</td><td style=\"text-align: right;\">    8.22387</td></tr>\n",
       "<tr><td>Connected components  </td><td>Full      </td><td>33,104,255         </td><td style=\"text-align: right;\">            2.37898</td><td style=\"text-align: right;\">   10.2765 </td><td style=\"text-align: right;\">    7.35623</td></tr>\n",
       "<tr><td>Connected components  </td><td>Filesystem</td><td>46,286,502         </td><td style=\"text-align: right;\">            2.25331</td><td style=\"text-align: right;\">   10.2192 </td><td style=\"text-align: right;\">    7.54798</td></tr>\n",
       "<tr><td>Connected components  </td><td>Commit    </td><td>88,031,649         </td><td style=\"text-align: right;\">            2.10415</td><td style=\"text-align: right;\">    7.71218</td><td style=\"text-align: right;\">    7.5815 </td></tr>\n",
       "<tr><td>Connected components  </td><td>History   </td><td>88,040,059         </td><td style=\"text-align: right;\">            2.1037 </td><td style=\"text-align: right;\">    7.71747</td><td style=\"text-align: right;\">    7.5762 </td></tr>\n",
       "<tr><td>Connected components  </td><td>Hosting   </td><td>108,342,722        </td><td style=\"text-align: right;\">            2.97852</td><td style=\"text-align: right;\">    7.14119</td><td style=\"text-align: right;\">    7.6733 </td></tr>\n",
       "<tr><td>Clustering coefficient</td><td>Full      </td><td>13,792,507         </td><td style=\"text-align: right;\">            2.06372</td><td style=\"text-align: right;\">    5.25442</td><td style=\"text-align: right;\">    7.11542</td></tr>\n",
       "<tr><td>Clustering coefficient</td><td>Filesystem</td><td>13,792,508         </td><td style=\"text-align: right;\">            2.10927</td><td style=\"text-align: right;\">    5.25442</td><td style=\"text-align: right;\">    7.1271 </td></tr>\n",
       "<tr><td>Clustering coefficient</td><td>Commit    </td><td>13,792,508         </td><td style=\"text-align: right;\">            2.52565</td><td style=\"text-align: right;\">    1.95424</td><td style=\"text-align: right;\">    7.13776</td></tr>\n",
       "<tr><td>Clustering coefficient</td><td>History   </td><td>13,792,508         </td><td style=\"text-align: right;\">            2.52565</td><td style=\"text-align: right;\">    1.95424</td><td style=\"text-align: right;\">    7.13776</td></tr>\n",
       "<tr><td>Shortest path         </td><td>Filesystem</td><td>586,361,673,140    </td><td style=\"text-align: right;\">            2.2753 </td><td style=\"text-align: right;\">    2.71096</td><td style=\"text-align: right;\">   11.2086 </td></tr>\n",
       "<tr><td>Shortest path         </td><td>Commit    </td><td>172,688,913        </td><td style=\"text-align: right;\">            1.53686</td><td style=\"text-align: right;\">    6.62941</td><td style=\"text-align: right;\">    7.5815 </td></tr>\n",
       "</tbody>\n",
       "</table>"
      ],
      "text/plain": [
       "<IPython.core.display.HTML object>"
      ]
     },
     "metadata": {},
     "output_type": "display_data"
    }
   ],
   "source": [
    "# it can take few minutes to process\n",
    "headers = [\"Algorithm\", \"Layer\", \"Number of objects\", \"Scaling parameter\", \"X decades\", \"Y decades\"]\n",
    "table = []\n",
    "for algo_name, algo_distributions in distributions.items():\n",
    "    for name, distribution in algo_distributions:\n",
    "        row = [\n",
    "            algo_name,\n",
    "            name,\n",
    "            f'{int(np.sum(distribution.y)):,}',\n",
    "            distribution.fitted_power(),\n",
    "            np.log10(np.max(distribution.x)),\n",
    "            np.log10(np.max(distribution.y)),\n",
    "        ]\n",
    "        table.append(row)\n",
    "\n",
    "display(HTML(tabulate.tabulate(table, headers=headers, tablefmt='html')))"
   ]
  },
  {
   "cell_type": "markdown",
   "id": "06106573-b5ee-4ecd-b9a4-4046eb5c1d50",
   "metadata": {},
   "source": [
    "## Data integrity: in and out degrees\n",
    "\n",
    "This data helps getting an overview of the graph properties and check whether it is consistent to our expectations as a way to perform data integrity checks."
   ]
  },
  {
   "cell_type": "code",
   "execution_count": 4,
   "id": "04d4d966-3764-44b0-b756-53bdbabec1e6",
   "metadata": {},
   "outputs": [
    {
     "data": {
      "text/html": [
       "<table>\n",
       "<thead>\n",
       "<tr><th>Node type  </th><th>Direction  </th><th>Neighbor type  </th><th># Nodes      </th><th># Edges        </th><th style=\"text-align: right;\">  Avg degree</th><th># (Lowest degree)  </th><th># (Second-lowest)  </th></tr>\n",
       "</thead>\n",
       "<tbody>\n",
       "<tr><td>contents   </td><td>← in       </td><td>directories    </td><td>9,152,847,293</td><td>143,786,784,566</td><td style=\"text-align: right;\">  15.7095   </td><td>5,978,249,005 (1)  </td><td>1,098,223,970 (2)  </td></tr>\n",
       "<tr><td>directories</td><td>← in       </td><td>everything     </td><td>7,897,590,134</td><td>65,200,402,547 </td><td style=\"text-align: right;\">   8.25573  </td><td>1,343,830 (0)      </td><td>6,134,767,929 (1)  </td></tr>\n",
       "<tr><td>directories</td><td>← in       </td><td>directories    </td><td>7,897,590,134</td><td>63,229,213,027 </td><td style=\"text-align: right;\">   8.00614  </td><td>1,607,262,793 (0)  </td><td>4,669,554,466 (1)  </td></tr>\n",
       "<tr><td>directories</td><td>← in       </td><td>revisions      </td><td>7,897,590,134</td><td>1,971,187,167  </td><td style=\"text-align: right;\">   0.249594 </td><td>6,261,880,169 (0)  </td><td>1,504,272,429 (1)  </td></tr>\n",
       "<tr><td>directories</td><td>→ out      </td><td>everything     </td><td>7,897,590,134</td><td>207,805,470,722</td><td style=\"text-align: right;\">  26.3125   </td><td>557,087 (0)        </td><td>1,713,055,834 (1)  </td></tr>\n",
       "<tr><td>directories</td><td>→ out      </td><td>contents       </td><td>7,897,590,134</td><td>143,786,781,408</td><td style=\"text-align: right;\">  18.2064   </td><td>1,787,869,540 (0)  </td><td>1,421,143,792 (1)  </td></tr>\n",
       "<tr><td>directories</td><td>→ out      </td><td>directories    </td><td>7,897,590,134</td><td>63,229,213,027 </td><td style=\"text-align: right;\">   8.00614  </td><td>2,753,589,255 (0)  </td><td>1,734,567,306 (1)  </td></tr>\n",
       "<tr><td>directories</td><td>→ out      </td><td>revisions      </td><td>7,897,590,134</td><td>789,473,873    </td><td style=\"text-align: right;\">   0.0999639</td><td>7,860,017,187 (0)  </td><td>23,267,141 (1)     </td></tr>\n",
       "<tr><td>origins    </td><td>→ out      </td><td>snapshots      </td><td>147,453,557  </td><td>189,314,705    </td><td style=\"text-align: right;\">   1.28389  </td><td>22,710,546 (0)     </td><td>77,244,971 (1)     </td></tr>\n",
       "<tr><td>releases   </td><td>← in       </td><td>snapshots      </td><td>16,539,537   </td><td>700,135,072    </td><td style=\"text-align: right;\">  42.331    </td><td>427,531 (0)        </td><td>4,408,973 (1)      </td></tr>\n",
       "<tr><td>revisions  </td><td>← in       </td><td>everything     </td><td>1,976,476,233</td><td>3,972,106,851  </td><td style=\"text-align: right;\">   2.00969  </td><td>21,591,750 (0)     </td><td>1,725,674,679 (1)  </td></tr>\n",
       "<tr><td>revisions  </td><td>← in       </td><td>directories    </td><td>1,976,476,233</td><td>789,473,873    </td><td style=\"text-align: right;\">   0.399435 </td><td>1,964,431,618 (0)  </td><td>5,859,359 (1)      </td></tr>\n",
       "<tr><td>revisions  </td><td>← in       </td><td>releases       </td><td>1,976,476,233</td><td>16,492,908     </td><td style=\"text-align: right;\">   0.0083446</td><td>1,964,753,264 (0)  </td><td>11,174,521 (1)     </td></tr>\n",
       "<tr><td>revisions  </td><td>← in       </td><td>revisions      </td><td>1,976,476,233</td><td>2,019,963,947  </td><td style=\"text-align: right;\">   1.022    </td><td>144,984,204 (0)    </td><td>1,709,984,716 (1)  </td></tr>\n",
       "<tr><td>revisions  </td><td>← in       </td><td>snapshots      </td><td>1,976,476,233</td><td>1,146,176,123  </td><td style=\"text-align: right;\">   0.579909 </td><td>1,797,791,879 (0)  </td><td>97,843,227 (1)     </td></tr>\n",
       "<tr><td>revisions  </td><td>→ out      </td><td>revisions      </td><td>1,976,476,233</td><td>2,019,963,947  </td><td style=\"text-align: right;\">   1.022    </td><td>90,031,800 (0)     </td><td>1,753,640,553 (1)  </td></tr>\n",
       "<tr><td>snapshots  </td><td>← in       </td><td>origins        </td><td>139,832,772  </td><td>189,320,602    </td><td style=\"text-align: right;\">   1.35391  </td><td>53,736 (0)         </td><td>129,905,452 (1)    </td></tr>\n",
       "<tr><td>snapshots  </td><td>→ out      </td><td>everything     </td><td>139,832,772  </td><td>1,846,275,796  </td><td style=\"text-align: right;\">  13.2035   </td><td>43,567 (0)         </td><td>90,198,552 (1)     </td></tr>\n",
       "<tr><td>snapshots  </td><td>→ out      </td><td>releases       </td><td>139,832,772  </td><td>700,096,853    </td><td style=\"text-align: right;\">   5.00667  </td><td>127,431,334 (0)    </td><td>2,406,919 (1)      </td></tr>\n",
       "<tr><td>snapshots  </td><td>→ out      </td><td>revisions      </td><td>139,832,772  </td><td>1,146,176,123  </td><td style=\"text-align: right;\">   8.19676  </td><td>44,064 (0)         </td><td>92,104,696 (1)     </td></tr>\n",
       "</tbody>\n",
       "</table>"
      ],
      "text/plain": [
       "<IPython.core.display.HTML object>"
      ]
     },
     "metadata": {},
     "output_type": "display_data"
    }
   ],
   "source": [
    "inout_per_type = [\n",
    "    'cnt_in_dir',\n",
    "    'dir_in_all',\n",
    "    'dir_in_dir',\n",
    "    'dir_in_rev',\n",
    "    'dir_out_all',\n",
    "    'dir_out_cnt',\n",
    "    'dir_out_dir',\n",
    "    'dir_out_rev',\n",
    "    'ori_out_snp',\n",
    "    'rel_in_snp',\n",
    "    'rev_in_all',\n",
    "    'rev_in_dir',\n",
    "    'rev_in_rel',\n",
    "    'rev_in_rev',\n",
    "    'rev_in_snp',\n",
    "    'rev_out_rev',\n",
    "    'snp_in_ori',\n",
    "    'snp_out_all',\n",
    "    'snp_out_rel',\n",
    "    'snp_out_rev',\n",
    "]\n",
    "\n",
    "headers = [\"Node type\", \"Direction\", \"Neighbor type\", \"# Nodes\", \"# Edges\", \"Avg degree\", \"# (Lowest degree)\", \"# (Second-lowest)\"]\n",
    "table2 = []\n",
    "for name in inout_per_type:\n",
    "    dist = d(DATASET / f'inout/per_type/{name}.txt')\n",
    "    src, direction, dst = name.split('_')\n",
    "    row = [\n",
    "        common.types_verbose[src],\n",
    "        (\"← in \" if direction == 'in' else \"→ out \"),\n",
    "        common.types_verbose[dst],\n",
    "        f'{int(np.sum(dist.y)):,}',\n",
    "        f'{int(np.sum(dist.x * dist.y)):,}',\n",
    "        np.sum(dist.x * dist.y) / np.sum(dist.y),\n",
    "        f'{int(dist.y[0]):,} ({int(dist.x[0]):,})',\n",
    "        f'{int(dist.y[1]):,} ({int(dist.x[1]):,})',\n",
    "    ]\n",
    "    table2.append(row)\n",
    "\n",
    "display(HTML(tabulate.tabulate(table2, headers=headers, tablefmt='html')))"
   ]
  },
  {
   "cell_type": "markdown",
   "id": "5c4df511-1f71-4c03-8546-f6954d494c1f",
   "metadata": {},
   "source": [
    "### Criteria list\n",
    "Here are a few examples of criteria that can be checked on the table:\n",
    "\n",
    "1. The number of nodes computed from the distributions (= the sum of the second column) is always the same in all distributions starting from the same node type. For instance, `dir_in_*` and `dir_out_*` all have the same number of directory nodes which have to be equals to the number of directory nodes in the raw swh dataset (namely 7 897 590 134).\n",
    "1. The number of edges computed from a source type to a destination type (src_out_dest) equals the number of edges from the raw dataset.\n",
    "1. The total (or average) in/outdegree of a given object type is equal when each neighbor type is looked independently and when they are all aggregated together (e.g. the average degree of `dir_out_all` is a weighted average of the average degrees of the `dir_out_{cnt,dir,rev}` distributions).\n",
    "1. The number of objects with a total indegree of 0 should be small in all types of objects that are supposed to be reachable from the upper layers of the graph.\n",
    "1. The number of objects with a total outdegree of 0 should be small in specific types of objects that are supposed to reach the lower layers of the graph.\n",
    "1. Some specific per-layer indegrees are expected to be relatively small compared to the total number of objects (e.g. most revisions do not have an associated release)\n",
    "\n",
    "We check some of these criteria programatically below."
   ]
  },
  {
   "cell_type": "code",
   "execution_count": 5,
   "id": "e05fa0e2",
   "metadata": {},
   "outputs": [],
   "source": [
    "def checkmark(condition):\n",
    "    if condition:\n",
    "        return '<span style=\"color: green\">✔</span>'\n",
    "    else:\n",
    "        return '<span style=\"color: red\">✗</span>'"
   ]
  },
  {
   "cell_type": "markdown",
   "id": "39488ba7",
   "metadata": {},
   "source": [
    "#### Criterion 1: y values sums up to the number of nodes in the layer"
   ]
  },
  {
   "cell_type": "code",
   "execution_count": 22,
   "id": "6eb05041",
   "metadata": {
    "scrolled": true
   },
   "outputs": [
    {
     "data": {
      "text/html": [
       "<table>\n",
       "<thead>\n",
       "<tr><th>Distribution  </th><th style=\"text-align: right;\">  Nodes from distribution</th><th style=\"text-align: right;\">  Nodes from dataset</th><th>Result                             </th><th style=\"text-align: right;\">  Difference %</th></tr>\n",
       "</thead>\n",
       "<tbody>\n",
       "<tr><td>cnt_in_dir    </td><td style=\"text-align: right;\">               9152847293</td><td style=\"text-align: right;\">          9152847293</td><td><span style=\"color: green\">✔</span></td><td style=\"text-align: right;\">             0</td></tr>\n",
       "<tr><td>dir_in_all    </td><td style=\"text-align: right;\">               7897590134</td><td style=\"text-align: right;\">          7897590134</td><td><span style=\"color: green\">✔</span></td><td style=\"text-align: right;\">             0</td></tr>\n",
       "<tr><td>dir_in_dir    </td><td style=\"text-align: right;\">               7897590134</td><td style=\"text-align: right;\">          7897590134</td><td><span style=\"color: green\">✔</span></td><td style=\"text-align: right;\">             0</td></tr>\n",
       "<tr><td>dir_in_rev    </td><td style=\"text-align: right;\">               7897590134</td><td style=\"text-align: right;\">          7897590134</td><td><span style=\"color: green\">✔</span></td><td style=\"text-align: right;\">             0</td></tr>\n",
       "<tr><td>dir_out_all   </td><td style=\"text-align: right;\">               7897590134</td><td style=\"text-align: right;\">          7897590134</td><td><span style=\"color: green\">✔</span></td><td style=\"text-align: right;\">             0</td></tr>\n",
       "<tr><td>dir_out_cnt   </td><td style=\"text-align: right;\">               7897590134</td><td style=\"text-align: right;\">          7897590134</td><td><span style=\"color: green\">✔</span></td><td style=\"text-align: right;\">             0</td></tr>\n",
       "<tr><td>dir_out_dir   </td><td style=\"text-align: right;\">               7897590134</td><td style=\"text-align: right;\">          7897590134</td><td><span style=\"color: green\">✔</span></td><td style=\"text-align: right;\">             0</td></tr>\n",
       "<tr><td>dir_out_rev   </td><td style=\"text-align: right;\">               7897590134</td><td style=\"text-align: right;\">          7897590134</td><td><span style=\"color: green\">✔</span></td><td style=\"text-align: right;\">             0</td></tr>\n",
       "<tr><td>ori_out_snp   </td><td style=\"text-align: right;\">                147453557</td><td style=\"text-align: right;\">           147453557</td><td><span style=\"color: green\">✔</span></td><td style=\"text-align: right;\">             0</td></tr>\n",
       "<tr><td>rel_in_snp    </td><td style=\"text-align: right;\">                 16539537</td><td style=\"text-align: right;\">            16539537</td><td><span style=\"color: green\">✔</span></td><td style=\"text-align: right;\">             0</td></tr>\n",
       "<tr><td>rev_in_all    </td><td style=\"text-align: right;\">               1976476233</td><td style=\"text-align: right;\">          1976476233</td><td><span style=\"color: green\">✔</span></td><td style=\"text-align: right;\">             0</td></tr>\n",
       "<tr><td>rev_in_dir    </td><td style=\"text-align: right;\">               1976476233</td><td style=\"text-align: right;\">          1976476233</td><td><span style=\"color: green\">✔</span></td><td style=\"text-align: right;\">             0</td></tr>\n",
       "<tr><td>rev_in_rel    </td><td style=\"text-align: right;\">               1976476233</td><td style=\"text-align: right;\">          1976476233</td><td><span style=\"color: green\">✔</span></td><td style=\"text-align: right;\">             0</td></tr>\n",
       "<tr><td>rev_in_rev    </td><td style=\"text-align: right;\">               1976476233</td><td style=\"text-align: right;\">          1976476233</td><td><span style=\"color: green\">✔</span></td><td style=\"text-align: right;\">             0</td></tr>\n",
       "<tr><td>rev_in_snp    </td><td style=\"text-align: right;\">               1976476233</td><td style=\"text-align: right;\">          1976476233</td><td><span style=\"color: green\">✔</span></td><td style=\"text-align: right;\">             0</td></tr>\n",
       "<tr><td>rev_out_rev   </td><td style=\"text-align: right;\">               1976476233</td><td style=\"text-align: right;\">          1976476233</td><td><span style=\"color: green\">✔</span></td><td style=\"text-align: right;\">             0</td></tr>\n",
       "<tr><td>snp_in_ori    </td><td style=\"text-align: right;\">                139832772</td><td style=\"text-align: right;\">           139832772</td><td><span style=\"color: green\">✔</span></td><td style=\"text-align: right;\">             0</td></tr>\n",
       "<tr><td>snp_out_all   </td><td style=\"text-align: right;\">                139832772</td><td style=\"text-align: right;\">           139832772</td><td><span style=\"color: green\">✔</span></td><td style=\"text-align: right;\">             0</td></tr>\n",
       "<tr><td>snp_out_rel   </td><td style=\"text-align: right;\">                139832772</td><td style=\"text-align: right;\">           139832772</td><td><span style=\"color: green\">✔</span></td><td style=\"text-align: right;\">             0</td></tr>\n",
       "<tr><td>snp_out_rev   </td><td style=\"text-align: right;\">                139832772</td><td style=\"text-align: right;\">           139832772</td><td><span style=\"color: green\">✔</span></td><td style=\"text-align: right;\">             0</td></tr>\n",
       "</tbody>\n",
       "</table>"
      ],
      "text/plain": [
       "<IPython.core.display.HTML object>"
      ]
     },
     "metadata": {},
     "output_type": "display_data"
    }
   ],
   "source": [
    "table = []\n",
    "for name in inout_per_type:\n",
    "    dist = d(DATASET / f'inout/per_type/{name}.txt')\n",
    "    src, direction, dst = name.split('_')\n",
    "    sum_y = int(np.sum(dist.y))\n",
    "    table.append([\n",
    "        name, sum_y, node_stats[src], \n",
    "        checkmark(sum_y == node_stats[src]),\n",
    "        100*(sum_y-node_stats[src])/node_stats[src]\n",
    "    ])\n",
    "    \n",
    "display(HTML(tabulate.tabulate(\n",
    "    table,\n",
    "    headers=[\"Distribution\", \"Nodes from distribution\", \"Nodes from dataset\", \"Result\", \"Difference %\"],\n",
    "    tablefmt='unsafehtml'\n",
    ")))"
   ]
  },
  {
   "cell_type": "markdown",
   "id": "d5722a62",
   "metadata": {},
   "source": [
    "#### Criterion 2: weighted sum of values sums up to the number of edges in the layer"
   ]
  },
  {
   "cell_type": "code",
   "execution_count": 7,
   "id": "6d9c13e8",
   "metadata": {
    "scrolled": true
   },
   "outputs": [
    {
     "data": {
      "text/html": [
       "<table>\n",
       "<thead>\n",
       "<tr><th>Distribution  </th><th style=\"text-align: right;\">  Edges from distribution</th><th style=\"text-align: right;\">  Edges from dataset</th><th>Result                             </th><th style=\"text-align: right;\">  Difference %</th></tr>\n",
       "</thead>\n",
       "<tbody>\n",
       "<tr><td>cnt_in_dir    </td><td style=\"text-align: right;\">             143786784566</td><td style=\"text-align: right;\">        149267317723</td><td><span style=\"color: red\">✗</span>  </td><td style=\"text-align: right;\">     3.67162  </td></tr>\n",
       "<tr><td>dir_in_all    </td><td style=\"text-align: right;\">              65200402547</td><td style=\"text-align: right;\">         66555540858</td><td><span style=\"color: red\">✗</span>  </td><td style=\"text-align: right;\">     2.0361   </td></tr>\n",
       "<tr><td>dir_in_dir    </td><td style=\"text-align: right;\">              63229213027</td><td style=\"text-align: right;\">         64584351336</td><td><span style=\"color: red\">✗</span>  </td><td style=\"text-align: right;\">     2.09825  </td></tr>\n",
       "<tr><td>dir_in_rev    </td><td style=\"text-align: right;\">               1971187167</td><td style=\"text-align: right;\">          1971187167</td><td><span style=\"color: green\">✔</span></td><td style=\"text-align: right;\">     0        </td></tr>\n",
       "<tr><td>dir_out_all   </td><td style=\"text-align: right;\">             207805470722</td><td style=\"text-align: right;\">        214643865319</td><td><span style=\"color: red\">✗</span>  </td><td style=\"text-align: right;\">     3.18593  </td></tr>\n",
       "<tr><td>dir_out_cnt   </td><td style=\"text-align: right;\">             143786781408</td><td style=\"text-align: right;\">        149267317723</td><td><span style=\"color: red\">✗</span>  </td><td style=\"text-align: right;\">     3.67163  </td></tr>\n",
       "<tr><td>dir_out_dir   </td><td style=\"text-align: right;\">              63229213027</td><td style=\"text-align: right;\">         64584351336</td><td><span style=\"color: red\">✗</span>  </td><td style=\"text-align: right;\">     2.09825  </td></tr>\n",
       "<tr><td>dir_out_rev   </td><td style=\"text-align: right;\">                789473873</td><td style=\"text-align: right;\">           792196260</td><td><span style=\"color: red\">✗</span>  </td><td style=\"text-align: right;\">     0.343651 </td></tr>\n",
       "<tr><td>ori_out_snp   </td><td style=\"text-align: right;\">                189314705</td><td style=\"text-align: right;\">           776112709</td><td><span style=\"color: red\">✗</span>  </td><td style=\"text-align: right;\">    75.6073   </td></tr>\n",
       "<tr><td>rel_in_snp    </td><td style=\"text-align: right;\">                700135072</td><td style=\"text-align: right;\">           700823546</td><td><span style=\"color: red\">✗</span>  </td><td style=\"text-align: right;\">     0.0982379</td></tr>\n",
       "<tr><td>rev_in_all    </td><td style=\"text-align: right;\">               3972106851</td><td style=\"text-align: right;\">          4188237438</td><td><span style=\"color: red\">✗</span>  </td><td style=\"text-align: right;\">     5.16042  </td></tr>\n",
       "<tr><td>rev_in_dir    </td><td style=\"text-align: right;\">                789473873</td><td style=\"text-align: right;\">           792196260</td><td><span style=\"color: red\">✗</span>  </td><td style=\"text-align: right;\">     0.343651 </td></tr>\n",
       "<tr><td>rev_in_rel    </td><td style=\"text-align: right;\">                 16492908</td><td style=\"text-align: right;\">            16492908</td><td><span style=\"color: green\">✔</span></td><td style=\"text-align: right;\">     0        </td></tr>\n",
       "<tr><td>rev_in_rev    </td><td style=\"text-align: right;\">               2019963947</td><td style=\"text-align: right;\">          2021009703</td><td><span style=\"color: red\">✗</span>  </td><td style=\"text-align: right;\">     0.0517442</td></tr>\n",
       "<tr><td>rev_in_snp    </td><td style=\"text-align: right;\">               1146176123</td><td style=\"text-align: right;\">          1358538567</td><td><span style=\"color: red\">✗</span>  </td><td style=\"text-align: right;\">    15.6317   </td></tr>\n",
       "<tr><td>rev_out_rev   </td><td style=\"text-align: right;\">               2019963947</td><td style=\"text-align: right;\">          2021009703</td><td><span style=\"color: red\">✗</span>  </td><td style=\"text-align: right;\">     0.0517442</td></tr>\n",
       "<tr><td>snp_in_ori    </td><td style=\"text-align: right;\">                189320602</td><td style=\"text-align: right;\">           776112709</td><td><span style=\"color: red\">✗</span>  </td><td style=\"text-align: right;\">    75.6066   </td></tr>\n",
       "<tr><td>snp_out_all   </td><td style=\"text-align: right;\">               1846275796</td><td style=\"text-align: right;\">          2059364890</td><td><span style=\"color: red\">✗</span>  </td><td style=\"text-align: right;\">    10.3473   </td></tr>\n",
       "<tr><td>snp_out_rel   </td><td style=\"text-align: right;\">                700096853</td><td style=\"text-align: right;\">           700823546</td><td><span style=\"color: red\">✗</span>  </td><td style=\"text-align: right;\">     0.103691 </td></tr>\n",
       "<tr><td>snp_out_rev   </td><td style=\"text-align: right;\">               1146176123</td><td style=\"text-align: right;\">          1358538567</td><td><span style=\"color: red\">✗</span>  </td><td style=\"text-align: right;\">    15.6317   </td></tr>\n",
       "</tbody>\n",
       "</table>"
      ],
      "text/plain": [
       "<IPython.core.display.HTML object>"
      ]
     },
     "metadata": {},
     "output_type": "display_data"
    }
   ],
   "source": [
    "table = []\n",
    "for name in inout_per_type:\n",
    "    dist = d(DATASET / f'inout/per_type/{name}.txt')\n",
    "    src, direction, dst = name.split('_')\n",
    "    computed_edges = int(np.sum(dist.x * dist.y))\n",
    "    expected_edges = sum(\n",
    "        v\n",
    "        for k, v in edge_stats.items()\n",
    "        if k.split(':')[direction == 'in'] == src\n",
    "        and (dst == 'all' or k.split(':')[direction != 'in'] == dst)\n",
    "    )\n",
    "    table.append([\n",
    "        name,\n",
    "        computed_edges,\n",
    "        expected_edges,\n",
    "        checkmark(computed_edges == expected_edges),\n",
    "        100*abs(computed_edges - expected_edges) / expected_edges\n",
    "    ])\n",
    "    \n",
    "display(HTML(tabulate.tabulate(\n",
    "    table,\n",
    "    headers=[\"Distribution\", \"Edges from distribution\", \"Edges from dataset\", \"Result\", \"Difference %\"\n",
    "            ],\n",
    "    tablefmt='unsafehtml'\n",
    ")))"
   ]
  },
  {
   "cell_type": "markdown",
   "id": "1a391e30",
   "metadata": {},
   "source": [
    "Here, we observe some discrepancy between the expected number of edges from the dataset and the ones we find in the distributions. As explained in the \"Threats to validity/Multiple edges\" section of the paper, this is due to technical limitations in the compression pipeline we have used to load the global VCS graph in-memory at the time the experiments were conducted.\n",
    "\n",
    "The 75% and 15% decreases in edges whose source or target is a snapshot node are not the most impactful regarding the graph structure of public software development because these duplications are the result of crawling processes (characterizing SoftwareHeritage crawlers visiting these origins several times and having ”seen” these snapshots more than once).\n",
    "\n",
    "It is potentially more so for the filsystem layer. The difference of a few percent is of the same order as some of the distribution tails we have highlighted and discussed. We have not attempted to measure the impact on the studied distributions, but this is likely to have a quantitative impact on some of the results presented in this study (such as the estimates of exponents, ranges and means, or properties of the shortest paths for instance), without necessarily calling them into question qualitatively.\n"
   ]
  },
  {
   "cell_type": "markdown",
   "id": "f6a82f11",
   "metadata": {},
   "source": [
    "#### Criterion 3.1: per-type average degrees sum up to layer average degree"
   ]
  },
  {
   "cell_type": "code",
   "execution_count": 23,
   "id": "b33a0e71-9c1b-4e90-bfd8-d77d24c4fe0f",
   "metadata": {},
   "outputs": [
    {
     "data": {
      "text/html": [
       "<table>\n",
       "<thead>\n",
       "<tr><th>Distribution  </th><th style=\"text-align: right;\">  Reported average degree</th><th style=\"text-align: right;\">  Computed average</th><th>Result                             </th><th style=\"text-align: right;\">  Difference %</th></tr>\n",
       "</thead>\n",
       "<tbody>\n",
       "<tr><td>dir_in_all    </td><td style=\"text-align: right;\">                  8.25573</td><td style=\"text-align: right;\">           8.25573</td><td><span style=\"color: red\">✗</span>  </td><td style=\"text-align: right;\">   3.60887e-06</td></tr>\n",
       "<tr><td>dir_out_all   </td><td style=\"text-align: right;\">                 26.3125 </td><td style=\"text-align: right;\">          26.3125 </td><td><span style=\"color: red\">✗</span>  </td><td style=\"text-align: right;\">   1.16166e-06</td></tr>\n",
       "<tr><td>rev_in_all    </td><td style=\"text-align: right;\">                  2.00969</td><td style=\"text-align: right;\">           2.00969</td><td><span style=\"color: green\">✔</span></td><td style=\"text-align: right;\">   0          </td></tr>\n",
       "<tr><td>snp_out_all   </td><td style=\"text-align: right;\">                 13.2035 </td><td style=\"text-align: right;\">          13.2034 </td><td><span style=\"color: red\">✗</span>  </td><td style=\"text-align: right;\">   0.00015274 </td></tr>\n",
       "</tbody>\n",
       "</table>"
      ],
      "text/plain": [
       "<IPython.core.display.HTML object>"
      ]
     },
     "metadata": {},
     "output_type": "display_data"
    }
   ],
   "source": [
    "table = []\n",
    "for name in inout_per_type:\n",
    "    dist = d(DATASET / f'inout/per_type/{name}.txt')\n",
    "    src, direction, dst = name.split('_')\n",
    "    if dst == 'all':\n",
    "        reported_avg_degree = np.sum(dist.x * dist.y) / np.sum(dist.y)\n",
    "        subcomponent_distributions = [\n",
    "            d(DATASET / f'inout/per_type/{name}.txt')\n",
    "            for name in inout_per_type\n",
    "            if name.split('_')[0] == src and name.split('_')[1] == direction and name.split('_')[2] != 'all'\n",
    "        ]\n",
    "        computed_weighted_avg_degree = sum(\n",
    "            np.sum(dist.x * dist.y) / np.sum(dist.y)\n",
    "            for dist in subcomponent_distributions\n",
    "        )        \n",
    "        table.append([\n",
    "            name,\n",
    "            reported_avg_degree,\n",
    "            computed_weighted_avg_degree,\n",
    "            checkmark(reported_avg_degree == computed_weighted_avg_degree),\n",
    "            100*abs(reported_avg_degree - computed_weighted_avg_degree) / reported_avg_degree\n",
    "        ])\n",
    "    \n",
    "display(HTML(tabulate.tabulate(\n",
    "    table,\n",
    "    headers=[\"Distribution\", \"Reported average degree\", \"Computed average\", \"Result\",\"Difference %\",\"\"],\n",
    "    tablefmt='unsafehtml'\n",
    ")))"
   ]
  },
  {
   "cell_type": "markdown",
   "id": "7277fed4-238b-485c-b382-4ff1deea5993",
   "metadata": {},
   "source": [
    "#### Criterion 3.2: per-type total degrees sum up to layer average degree"
   ]
  },
  {
   "cell_type": "code",
   "execution_count": 24,
   "id": "4f861214-abe5-46fb-b779-dcb4bd8e9a7b",
   "metadata": {},
   "outputs": [
    {
     "data": {
      "text/html": [
       "<table>\n",
       "<thead>\n",
       "<tr><th>Distribution  </th><th style=\"text-align: right;\">  Reported total degree</th><th style=\"text-align: right;\">  Computed total</th><th>Result                             </th><th style=\"text-align: right;\">  Difference %</th></tr>\n",
       "</thead>\n",
       "<tbody>\n",
       "<tr><td>dir_in_all    </td><td style=\"text-align: right;\">            65200402547</td><td style=\"text-align: right;\">     65200400194</td><td><span style=\"color: red\">✗</span>  </td><td style=\"text-align: right;\">   3.60887e-06</td></tr>\n",
       "<tr><td>dir_out_all   </td><td style=\"text-align: right;\">           207805470722</td><td style=\"text-align: right;\">    207805468308</td><td><span style=\"color: red\">✗</span>  </td><td style=\"text-align: right;\">   1.16166e-06</td></tr>\n",
       "<tr><td>rev_in_all    </td><td style=\"text-align: right;\">             3972106851</td><td style=\"text-align: right;\">      3972106851</td><td><span style=\"color: green\">✔</span></td><td style=\"text-align: right;\">   0          </td></tr>\n",
       "<tr><td>snp_out_all   </td><td style=\"text-align: right;\">             1846275796</td><td style=\"text-align: right;\">      1846272976</td><td><span style=\"color: red\">✗</span>  </td><td style=\"text-align: right;\">   0.00015274 </td></tr>\n",
       "</tbody>\n",
       "</table>"
      ],
      "text/plain": [
       "<IPython.core.display.HTML object>"
      ]
     },
     "metadata": {},
     "output_type": "display_data"
    }
   ],
   "source": [
    "table = []\n",
    "for name in inout_per_type:\n",
    "    dist = d(DATASET / f'inout/per_type/{name}.txt')\n",
    "    src, direction, dst = name.split('_')\n",
    "    if dst == 'all':\n",
    "        reported_total_degree = np.sum(dist.x * dist.y)\n",
    "        subcomponent_distributions = [\n",
    "            d(DATASET / f'inout/per_type/{name}.txt')\n",
    "            for name in inout_per_type\n",
    "            if name.split('_')[0] == src and name.split('_')[1] == direction and name.split('_')[2] != 'all'\n",
    "        ]\n",
    "        computed_weighted_total_degree = sum(\n",
    "            np.sum(dist.x * dist.y)\n",
    "            for dist in subcomponent_distributions\n",
    "        )\n",
    "        table.append([\n",
    "            name,\n",
    "            int(reported_total_degree),\n",
    "            int(computed_weighted_total_degree),\n",
    "            checkmark(reported_total_degree == computed_weighted_total_degree),\n",
    "            100*abs(reported_total_degree - computed_weighted_total_degree) / reported_total_degree\n",
    "        ])\n",
    "    \n",
    "display(HTML(tabulate.tabulate(\n",
    "    table,\n",
    "    headers=[\"Distribution\", \"Reported total degree\", \"Computed total\", \"Result\",\"Difference %\"],\n",
    "    tablefmt='unsafehtml'\n",
    ")))"
   ]
  },
  {
   "cell_type": "markdown",
   "id": "ebc729b2",
   "metadata": {},
   "source": [
    "#### Criterion 4: low number of non-origin nodes with no parents"
   ]
  },
  {
   "cell_type": "code",
   "execution_count": 10,
   "id": "3438b906",
   "metadata": {},
   "outputs": [
    {
     "data": {
      "text/html": [
       "<table>\n",
       "<thead>\n",
       "<tr><th>Distribution  </th><th style=\"text-align: right;\">  Nodes with indegree = 0</th><th style=\"text-align: right;\">  Total nodes</th><th>Result                             </th><th style=\"text-align: right;\">  Percentage %</th></tr>\n",
       "</thead>\n",
       "<tbody>\n",
       "<tr><td>cnt_in_dir    </td><td style=\"text-align: right;\">                        0</td><td style=\"text-align: right;\">   9152847293</td><td><span style=\"color: green\">✔</span></td><td style=\"text-align: right;\">     0        </td></tr>\n",
       "<tr><td>dir_in_all    </td><td style=\"text-align: right;\">                  1343830</td><td style=\"text-align: right;\">   7897590134</td><td><span style=\"color: red\">✗</span>  </td><td style=\"text-align: right;\">     0.0170157</td></tr>\n",
       "<tr><td>rel_in_snp    </td><td style=\"text-align: right;\">                   427531</td><td style=\"text-align: right;\">     16539537</td><td><span style=\"color: red\">✗</span>  </td><td style=\"text-align: right;\">     2.5849   </td></tr>\n",
       "<tr><td>rev_in_all    </td><td style=\"text-align: right;\">                 21591750</td><td style=\"text-align: right;\">   1976476233</td><td><span style=\"color: red\">✗</span>  </td><td style=\"text-align: right;\">     1.09244  </td></tr>\n",
       "<tr><td>snp_in_ori    </td><td style=\"text-align: right;\">                    53736</td><td style=\"text-align: right;\">    139832772</td><td><span style=\"color: red\">✗</span>  </td><td style=\"text-align: right;\">     0.0384288</td></tr>\n",
       "</tbody>\n",
       "</table>"
      ],
      "text/plain": [
       "<IPython.core.display.HTML object>"
      ]
     },
     "metadata": {},
     "output_type": "display_data"
    }
   ],
   "source": [
    "table = []\n",
    "for name in [\"cnt_in_dir\", \"dir_in_all\", \"rel_in_snp\", \"rev_in_all\", \"snp_in_ori\"]:\n",
    "    dist = d(DATASET / f'inout/per_type/{name}.txt')\n",
    "    src, direction, dst = name.split('_')\n",
    "    indegree_zero = int(dist.y[0]) if dist.x[0] == 0 else 0\n",
    "    table.append([\n",
    "        name,\n",
    "        indegree_zero,\n",
    "        node_stats[src],\n",
    "        checkmark(indegree_zero==0),\n",
    "        100*indegree_zero / node_stats[src],\n",
    "    ])\n",
    "    \n",
    "display(HTML(tabulate.tabulate(\n",
    "    table,\n",
    "    headers=[\"Distribution\", \"Nodes with indegree = 0\", \"Total nodes\", \"Result\",\"Percentage %\"],\n",
    "    tablefmt='unsafehtml'\n",
    ")))"
   ]
  },
  {
   "cell_type": "markdown",
   "id": "6af93754-2a2d-4e51-a3d5-dabd6db23814",
   "metadata": {},
   "source": [
    "The list of nodes without ancestors in this study will be made available later in a deposit on zenodo (**TODO: add link**) "
   ]
  },
  {
   "cell_type": "markdown",
   "id": "e445ad62",
   "metadata": {},
   "source": [
    "#### Criterion 5: low number of intermediate objects with no children"
   ]
  },
  {
   "cell_type": "code",
   "execution_count": 11,
   "id": "e4526a7d",
   "metadata": {},
   "outputs": [
    {
     "data": {
      "text/html": [
       "<table>\n",
       "<thead>\n",
       "<tr><th>Distribution  </th><th style=\"text-align: right;\">  Nodes with indegree = 0</th><th style=\"text-align: right;\">  Total nodes</th><th>Result                           </th><th style=\"text-align: right;\">  Percentage %</th></tr>\n",
       "</thead>\n",
       "<tbody>\n",
       "<tr><td>dir_out_all   </td><td style=\"text-align: right;\">                   557087</td><td style=\"text-align: right;\">   7897590134</td><td><span style=\"color: red\">✗</span></td><td style=\"text-align: right;\">    0.00705389</td></tr>\n",
       "<tr><td>snp_out_all   </td><td style=\"text-align: right;\">                    43567</td><td style=\"text-align: right;\">    139832772</td><td><span style=\"color: red\">✗</span></td><td style=\"text-align: right;\">    0.0311565 </td></tr>\n",
       "<tr><td>ori_out_snp   </td><td style=\"text-align: right;\">                 22710546</td><td style=\"text-align: right;\">    147453557</td><td><span style=\"color: red\">✗</span></td><td style=\"text-align: right;\">   15.4018    </td></tr>\n",
       "</tbody>\n",
       "</table>"
      ],
      "text/plain": [
       "<IPython.core.display.HTML object>"
      ]
     },
     "metadata": {},
     "output_type": "display_data"
    }
   ],
   "source": [
    "table = []\n",
    "for name in [\"dir_out_all\", \"snp_out_all\", \"ori_out_snp\"]:\n",
    "    dist = d(DATASET / f'inout/per_type/{name}.txt')\n",
    "    src, direction, dst = name.split('_')\n",
    "    if direction != 'out':\n",
    "        continue\n",
    "    indegree_zero = int(dist.y[0]) if dist.x[0] == 0 else 0\n",
    "    table.append([\n",
    "        name,\n",
    "        indegree_zero,\n",
    "        node_stats[src],\n",
    "        checkmark(indegree_zero==0),\n",
    "        100*indegree_zero / node_stats[src]\n",
    "    ])\n",
    "    \n",
    "display(HTML(tabulate.tabulate(\n",
    "    table,\n",
    "    headers=[\"Distribution\", \"Nodes with indegree = 0\", \"Total nodes\", \"Result\", \"Percentage %\"],\n",
    "    tablefmt='unsafehtml'\n",
    ")))"
   ]
  },
  {
   "cell_type": "markdown",
   "id": "c4201d37",
   "metadata": {},
   "source": [
    "We see here that a lot of origins exist but do not have associated snapshots. This may be due to the crawling process if for instance \n",
    "- they have been listed in the dataset but not been visited yet by the crawlers, \n",
    "- if the first crawling failed before completing, or\n",
    "- if they have been removed before the crawlers visited them.\n",
    "\n",
    "Some of the strategies described in the next section for nodes without ancestors may highlight one or more of these possible explanations."
   ]
  },
  {
   "cell_type": "markdown",
   "id": "47a65870-e5b3-4264-bbc7-3d4687428c4a",
   "metadata": {},
   "source": [
    "#### Criterion 6: low number of revision nodes with ancestor release"
   ]
  },
  {
   "cell_type": "code",
   "execution_count": 16,
   "id": "e5c35d63-3efa-44e6-bfcc-39ab76123a82",
   "metadata": {},
   "outputs": [
    {
     "data": {
      "text/html": [
       "<table>\n",
       "<thead>\n",
       "<tr><th>Distribution  </th><th style=\"text-align: right;\">  Rev. with ancestor rel.</th><th style=\"text-align: right;\">  Total nodes</th><th>Result (<5%)                       </th><th style=\"text-align: right;\">  Percentage %</th></tr>\n",
       "</thead>\n",
       "<tbody>\n",
       "<tr><td>rev_in_rel    </td><td style=\"text-align: right;\">                 11722969</td><td style=\"text-align: right;\">   1976476233</td><td><span style=\"color: green\">✔</span></td><td style=\"text-align: right;\">      0.593125</td></tr>\n",
       "</tbody>\n",
       "</table>"
      ],
      "text/plain": [
       "<IPython.core.display.HTML object>"
      ]
     },
     "metadata": {},
     "output_type": "display_data"
    }
   ],
   "source": [
    "DATASET = Path('../experiments')\n",
    "table = []\n",
    "\n",
    "threshold=5 # %\n",
    "# Threshold value meaning \"small compared to the number of nodes\" \n",
    "# based on an a priori knowledge of the object of study (here the VCS history graph) \n",
    "# independently of the dataset specifically taken for the study (here the one made \n",
    "# available by the software heritage project)\n",
    "\n",
    "for name in ['rev_in_rel']:\n",
    "    dist = d(DATASET / f'inout/per_type/{name}.txt')\n",
    "    src, direction, dst = name.split('_')\n",
    "    sy=np.sum(dist.y)\n",
    "    if dist.x[0]==0:\n",
    "        s0=dist.y[0]\n",
    "    else:\n",
    "        s0=0\n",
    "    ds=(sy-s0)/sy*100\n",
    "    table.append([\n",
    "        name,\n",
    "        int(sy-s0),\n",
    "        int(sy),\n",
    "        checkmark(ds<threshold),\n",
    "        ds\n",
    "    ])\n",
    "    \n",
    "display(HTML(tabulate.tabulate(\n",
    "    table,\n",
    "    headers=[\"Distribution\", \"Rev. with ancestor rel.\", \"Total nodes\", \"Result (<\"+str(threshold)+\"%)\", \"Percentage %\"],\n",
    "    tablefmt='unsafehtml'\n",
    ")))"
   ]
  },
  {
   "cell_type": "markdown",
   "id": "7805111e-f2c6-4d50-bff3-7c918b88d651",
   "metadata": {},
   "source": [
    "## Example of data integrity failures encountered during this study\n"
   ]
  },
  {
   "cell_type": "markdown",
   "id": "0b53bec5-eb20-44d7-b7c1-9f7bb48e1ca1",
   "metadata": {},
   "source": [
    "### Data integrity: nodes without ancestors / Compression Pipline\n",
    "\n",
    "The control script for criteria 5 applied on the dataset 2020-05-20 \n",
    "(https://annex.softwareheritage.org/public/dataset/graph/2020-05-20/compressed/) \n",
    "lead to the following result:"
   ]
  },
  {
   "cell_type": "code",
   "execution_count": 17,
   "id": "759ddb72-17bd-4406-a014-fe72d379694a",
   "metadata": {},
   "outputs": [
    {
     "data": {
      "text/html": [
       "<table>\n",
       "<thead>\n",
       "<tr><th>Distribution  </th><th style=\"text-align: right;\">  Nodes with indegree = 0</th><th style=\"text-align: right;\">  Total nodes</th><th>Result                           </th><th style=\"text-align: right;\">  Percentage %</th></tr>\n",
       "</thead>\n",
       "<tbody>\n",
       "<tr><td>snp_in_ori    </td><td style=\"text-align: right;\">                 51899904</td><td style=\"text-align: right;\">    139832772</td><td><span style=\"color: red\">✗</span></td><td style=\"text-align: right;\">    37.1157   </td></tr>\n",
       "<tr><td>cnt_in_dir    </td><td style=\"text-align: right;\">                302918865</td><td style=\"text-align: right;\">   9152847293</td><td><span style=\"color: red\">✗</span></td><td style=\"text-align: right;\">     3.30956  </td></tr>\n",
       "<tr><td>dir_in_all    </td><td style=\"text-align: right;\">                  1968810</td><td style=\"text-align: right;\">   7897590134</td><td><span style=\"color: red\">✗</span></td><td style=\"text-align: right;\">     0.0249293</td></tr>\n",
       "<tr><td>rel_in_snp    </td><td style=\"text-align: right;\">                   428698</td><td style=\"text-align: right;\">     16539537</td><td><span style=\"color: red\">✗</span></td><td style=\"text-align: right;\">     2.59196  </td></tr>\n",
       "<tr><td>rev_in_all    </td><td style=\"text-align: right;\">                 17852476</td><td style=\"text-align: right;\">   1976476233</td><td><span style=\"color: red\">✗</span></td><td style=\"text-align: right;\">     0.903248 </td></tr>\n",
       "</tbody>\n",
       "</table>"
      ],
      "text/plain": [
       "<IPython.core.display.HTML object>"
      ]
     },
     "metadata": {},
     "output_type": "display_data"
    }
   ],
   "source": [
    "DATASET_20200520 = Path('../experiments/deprecated/20210403/') # after bugfix\n",
    "\n",
    "table = []\n",
    "for name in [\"snp_in_ori\",\"cnt_in_dir\", \"dir_in_all\", \"rel_in_snp\", \"rev_in_all\"]:\n",
    "    dist = d(DATASET_20200520 / f'inout/per_type/{name}.txt')\n",
    "    src, direction, dst = name.split('_')\n",
    "    indegree_zero = int(dist.y[0]) if dist.x[0] == 0 else 0\n",
    "    table.append([\n",
    "        name,\n",
    "        indegree_zero,\n",
    "        node_stats[src],\n",
    "        checkmark(indegree_zero == node_stats[src]),\n",
    "        100*indegree_zero / node_stats[src],\n",
    "    ])\n",
    "    \n",
    "display(HTML(tabulate.tabulate(\n",
    "    table,\n",
    "    headers=[\"Distribution\", \"Nodes with indegree = 0\", \"Total nodes\", \"Result\",\"Percentage %\" ],\n",
    "    tablefmt='unsafehtml'\n",
    ")))"
   ]
  },
  {
   "cell_type": "markdown",
   "id": "e7e0b5ec-9f42-49b8-8607-dbbfd3ca95d2",
   "metadata": {},
   "source": [
    "**In this older export, 37% of the snaphost nodes were not connected to an upstream origins.** This control script allowed us to spot the issue, and shift to a newer version of the dataset (2020-12-15) in which (see criteria 4 script) we now have less thant 0.04% of snapshot nodes without ancestor origins. Directory nodes without ancestors decrease from 3.3% to less than 0.02%."
   ]
  },
  {
   "cell_type": "markdown",
   "id": "b9894c85-e890-49e9-a47a-30354453dc63",
   "metadata": {},
   "source": [
    "### Data integrity: nodes without ancestors / Raw Dataset\n",
    "\n",
    "Due to the update mechanisms of the software heritage project base, having parents without ancestors can have several origins. One of them is the atomicity that is not guaranteed during an update in the bottom-up direction. That is, if there is a problem in the indexing process of new software artifacts, the nodes of the filesystem layer, for example, may have been injected without the nodes of the history or hosting layers having been injected.\n",
    "In most cases, when crawlers return to an origin whose last visit was an error, the injection process based on intrinsic identifiers corrects the problem.\n",
    "\n",
    "Similarly, the process, used up to now, to export the graph and build a compressed version is not atomic. So there may be a time shift of the same type with some objects missing at the frontier of the current injection processes.\n",
    "\n",
    "In both cases, the problems should be only temporary and it is possible to check whether this explains all or some of the nodes without ancestors we have found, by \n",
    "- comparing two exports separated by a time guaranteeing that the crawlers have returned to the failed visits, and checking that most nodes missing an ancestor in the first export, have one in the second export.\n",
    "- comparing the 2020-12-15 export with the information contained in the Software Heritage project database. In the case of revisions not linked to an ancestor, it is sufficient to check whether these revisions were seen in visits much older than the export date, or on the contrary close to the limit represented by the export date.\n",
    "\n",
    "We did this on a sample of 1000 revisions without ancestors, identifying for 98.5% of them (see file *rev1000.txt*) the oldest visit in which it was seen (without having to go back in the chain of revisions).\n",
    "\n",
    "A small proportion of these revisions have been seen recently. This invalidates the hypothesis according to which nodes without ancestors are primarily caused by the non-atomicity of the crawling process and the export process.\n",
    "\n",
    "Further investigation is needed. An anomaly report has been filed https://forge.softwareheritage.org/T3660.\n",
    "\n",
    "At this point, we have no evidence that these anomalies have a significant impact on the results presented in this study. Nevertheless, this is one of the limitations of this study, and will need further investigation.\n",
    "\n",
    "\n"
   ]
  },
  {
   "cell_type": "markdown",
   "id": "d6cb97d4-3fa9-423d-9e63-5c991643208d",
   "metadata": {},
   "source": [
    "## Data Availability Statements\n",
    "\n",
    "According to [Data Policy and Data Availability Statements ](https://www.springer.com/journal/10664/submission-guidelines#Instruction%20for%20Authors_Research%20Data%20Policy%20and%20Data%20Availability%20Statements), \n",
    "- the main datasets generated during and/or analysed during the current study are available in the https://github.com/seirl/swh-graph-structure repository,\n",
    "- intermediate datasets obtained in the normal course of development of the analysis tools are not available.\n",
    "\n",
    "\n",
    "\n",
    "\n",
    "\n",
    "\n"
   ]
  }
 ],
 "metadata": {
  "kernelspec": {
   "display_name": "Python 3",
   "language": "python",
   "name": "python3"
  },
  "language_info": {
   "codemirror_mode": {
    "name": "ipython",
    "version": 3
   },
   "file_extension": ".py",
   "mimetype": "text/x-python",
   "name": "python",
   "nbconvert_exporter": "python",
   "pygments_lexer": "ipython3",
   "version": "3.8.5"
  }
 },
 "nbformat": 4,
 "nbformat_minor": 5
}
