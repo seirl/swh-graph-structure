{
 "cells": [
  {
   "cell_type": "code",
   "execution_count": 1,
   "id": "71f99159",
   "metadata": {},
   "outputs": [],
   "source": [
    "from pathlib import Path\n",
    "import matplotlib.pyplot as plt\n",
    "import numpy as np\n",
    "import tabulate\n",
    "from IPython.display import HTML, display\n",
    "\n",
    "import common\n",
    "\n",
    "\n",
    "DATASET = Path('../experiments')\n",
    "\n",
    "def d(p):\n",
    "    x, y = common.load_text_distribution(p)\n",
    "    return common.Distribution(x, y, '', '', '')\n",
    "\n",
    "distributions = {\n",
    "    'In-degrees': [\n",
    "        (\"Full\", d(DATASET / 'inout/full_in.txt')),\n",
    "        (\"Filesystem\", d(DATASET / 'inout/dir+cnt_in.txt')),\n",
    "        (\"Commit\", d(DATASET / 'inout/rev_in.txt')),\n",
    "        (\"History\", d(DATASET / 'inout/rel+rev_in.txt')),\n",
    "        (\"Hosting\", d(DATASET / 'inout/ori+snp_in.txt')),\n",
    "    ],\n",
    "    'Out-degrees': [\n",
    "        (\"Full\", d(DATASET / 'inout/full_out.txt')),\n",
    "        (\"Filesystem\", d(DATASET / 'inout/dir+cnt_out.txt')),\n",
    "        (\"Commit\", d(DATASET / 'inout/rev_out.txt')),\n",
    "        (\"History\", d(DATASET / 'inout/rel+rev_out.txt')),\n",
    "        (\"Hosting\", d(DATASET / 'inout/ori+snp_out.txt')),\n",
    "    ],\n",
    "    'Connected components': [\n",
    "        (\"Full\", d(DATASET / 'connectedcomponents/full/distribution.txt')),\n",
    "        (\"Filesystem\", d(DATASET / 'connectedcomponents/dir+cnt/distribution.txt')),\n",
    "        (\"Commit\", d(DATASET / 'connectedcomponents/rev/distribution.txt')),\n",
    "        (\"History\", d(DATASET / 'connectedcomponents/rel+rev/distribution.txt')),\n",
    "        (\"Hosting\", d(DATASET / 'connectedcomponents/ori+snp/distribution.txt')),\n",
    "    ],\n",
    "    'Clustering coefficient': [\n",
    "        (\"Full\", d(DATASET / 'clusteringcoeff/distribution-full.txt')),\n",
    "        (\"Filesystem\", d(DATASET / 'clusteringcoeff/distribution-dircnt.txt')),\n",
    "        (\"Commit\", d(DATASET / 'clusteringcoeff/distribution-rev.txt')),\n",
    "        (\"History\", d(DATASET / 'clusteringcoeff/distribution-relrev.txt')),\n",
    "        # (\"Hosting\", d(DATASET / 'clusteringcoeff/distribution-orisnp.txt')),\n",
    "    ],\n",
    "    'Shortest path': [\n",
    "        (\"Filesystem\", d(DATASET / 'shortestpath/dir+cnt/distribution.txt')),\n",
    "        (\"Commit\", d(DATASET / 'shortestpath/rev/distribution.txt')),\n",
    "    ]\n",
    "}"
   ]
  },
  {
   "cell_type": "markdown",
   "id": "fef5d673",
   "metadata": {},
   "source": [
    "## Graph layer statistics\n",
    "\n",
    "Statistics of the graph layers and their associated distributions, as reported in the article."
   ]
  },
  {
   "cell_type": "code",
   "execution_count": 2,
   "id": "f6592ce3",
   "metadata": {},
   "outputs": [
    {
     "data": {
      "text/html": [
       "<table>\n",
       "<thead>\n",
       "<tr><th>Algorithm             </th><th>Layer     </th><th>Number of objects  </th><th style=\"text-align: right;\">  Scaling parameter</th><th style=\"text-align: right;\">  X decades</th><th style=\"text-align: right;\">  Y decades</th></tr>\n",
       "</thead>\n",
       "<tbody>\n",
       "<tr><td>In-degrees            </td><td>Full      </td><td>19,330,739,526     </td><td style=\"text-align: right;\">            1.86533</td><td style=\"text-align: right;\">    8.47619</td><td style=\"text-align: right;\">   10.1453 </td></tr>\n",
       "<tr><td>In-degrees            </td><td>Filesystem</td><td>17,050,437,427     </td><td style=\"text-align: right;\">            1.86295</td><td style=\"text-align: right;\">    8.47619</td><td style=\"text-align: right;\">   10.0273 </td></tr>\n",
       "<tr><td>In-degrees            </td><td>Commit    </td><td>1,976,476,233      </td><td style=\"text-align: right;\">            2.20457</td><td style=\"text-align: right;\">    5.84003</td><td style=\"text-align: right;\">    9.23299</td></tr>\n",
       "<tr><td>In-degrees            </td><td>History   </td><td>1,993,015,770      </td><td style=\"text-align: right;\">            2.14762</td><td style=\"text-align: right;\">    5.84003</td><td style=\"text-align: right;\">    9.23155</td></tr>\n",
       "<tr><td>In-degrees            </td><td>Hosting   </td><td>287,286,329        </td><td style=\"text-align: right;\">            2.76256</td><td style=\"text-align: right;\">    7.03349</td><td style=\"text-align: right;\">    8.16881</td></tr>\n",
       "<tr><td>Out-degrees           </td><td>Full      </td><td>19,330,739,526     </td><td style=\"text-align: right;\">            1.94752</td><td style=\"text-align: right;\">    6.01419</td><td style=\"text-align: right;\">    9.96291</td></tr>\n",
       "<tr><td>Out-degrees           </td><td>Filesystem</td><td>17,050,437,427     </td><td style=\"text-align: right;\">            1.94683</td><td style=\"text-align: right;\">    6.01419</td><td style=\"text-align: right;\">    9.96169</td></tr>\n",
       "<tr><td>Out-degrees           </td><td>Commit    </td><td>1,976,476,233      </td><td style=\"text-align: right;\">            5.80822</td><td style=\"text-align: right;\">    5      </td><td style=\"text-align: right;\">    9.24394</td></tr>\n",
       "<tr><td>Out-degrees           </td><td>History   </td><td>1,993,015,770      </td><td style=\"text-align: right;\">            5.80822</td><td style=\"text-align: right;\">    5      </td><td style=\"text-align: right;\">    9.24802</td></tr>\n",
       "<tr><td>Out-degrees           </td><td>Hosting   </td><td>287,286,329        </td><td style=\"text-align: right;\">            2.20614</td><td style=\"text-align: right;\">    4.98671</td><td style=\"text-align: right;\">    8.22387</td></tr>\n",
       "<tr><td>Connected components  </td><td>Full      </td><td>33,104,255         </td><td style=\"text-align: right;\">            2.37898</td><td style=\"text-align: right;\">   10.2765 </td><td style=\"text-align: right;\">    7.35623</td></tr>\n",
       "<tr><td>Connected components  </td><td>Filesystem</td><td>46,286,502         </td><td style=\"text-align: right;\">            2.25331</td><td style=\"text-align: right;\">   10.2192 </td><td style=\"text-align: right;\">    7.54798</td></tr>\n",
       "<tr><td>Connected components  </td><td>Commit    </td><td>88,031,649         </td><td style=\"text-align: right;\">            2.10415</td><td style=\"text-align: right;\">    7.71218</td><td style=\"text-align: right;\">    7.5815 </td></tr>\n",
       "<tr><td>Connected components  </td><td>History   </td><td>88,040,059         </td><td style=\"text-align: right;\">            2.1037 </td><td style=\"text-align: right;\">    7.71747</td><td style=\"text-align: right;\">    7.5762 </td></tr>\n",
       "<tr><td>Connected components  </td><td>Hosting   </td><td>108,342,722        </td><td style=\"text-align: right;\">            2.97852</td><td style=\"text-align: right;\">    7.14119</td><td style=\"text-align: right;\">    7.6733 </td></tr>\n",
       "<tr><td>Clustering coefficient</td><td>Full      </td><td>13,792,507         </td><td style=\"text-align: right;\">            2.06372</td><td style=\"text-align: right;\">    5.25442</td><td style=\"text-align: right;\">    7.11542</td></tr>\n",
       "<tr><td>Clustering coefficient</td><td>Filesystem</td><td>13,792,508         </td><td style=\"text-align: right;\">            2.10927</td><td style=\"text-align: right;\">    5.25442</td><td style=\"text-align: right;\">    7.1271 </td></tr>\n",
       "<tr><td>Clustering coefficient</td><td>Commit    </td><td>13,792,508         </td><td style=\"text-align: right;\">            2.52565</td><td style=\"text-align: right;\">    1.95424</td><td style=\"text-align: right;\">    7.13776</td></tr>\n",
       "<tr><td>Clustering coefficient</td><td>History   </td><td>13,792,508         </td><td style=\"text-align: right;\">            2.52565</td><td style=\"text-align: right;\">    1.95424</td><td style=\"text-align: right;\">    7.13776</td></tr>\n",
       "<tr><td>Shortest path         </td><td>Filesystem</td><td>586,361,673,140    </td><td style=\"text-align: right;\">            2.2753 </td><td style=\"text-align: right;\">    2.71096</td><td style=\"text-align: right;\">   11.2086 </td></tr>\n",
       "<tr><td>Shortest path         </td><td>Commit    </td><td>172,688,913        </td><td style=\"text-align: right;\">            1.53686</td><td style=\"text-align: right;\">    6.62941</td><td style=\"text-align: right;\">    7.5815 </td></tr>\n",
       "</tbody>\n",
       "</table>"
      ],
      "text/plain": [
       "<IPython.core.display.HTML object>"
      ]
     },
     "metadata": {},
     "output_type": "display_data"
    }
   ],
   "source": [
    "# it can take few minutes to process\n",
    "headers = [\"Algorithm\", \"Layer\", \"Number of objects\", \"Scaling parameter\", \"X decades\", \"Y decades\"]\n",
    "table = []\n",
    "for algo_name, algo_distributions in distributions.items():\n",
    "    for name, distribution in algo_distributions:\n",
    "        row = [\n",
    "            algo_name,\n",
    "            name,\n",
    "            f'{int(np.sum(distribution.y)):,}',\n",
    "            distribution.fitted_power(),\n",
    "            np.log10(np.max(distribution.x)),\n",
    "            np.log10(np.max(distribution.y)),\n",
    "        ]\n",
    "        table.append(row)\n",
    "\n",
    "display(HTML(tabulate.tabulate(table, headers=headers, tablefmt='html')))"
   ]
  },
  {
   "cell_type": "markdown",
   "id": "06106573-b5ee-4ecd-b9a4-4046eb5c1d50",
   "metadata": {},
   "source": [
    "## Data integrity: in and out degrees\n",
    "\n",
    "This data helps getting an overview of the graph properties and check whether it is consistent to our expectations as a way to perform data integrity checks.\n",
    "\n",
    "### Node and edge statistics of the studied graph corpus.\n",
    "\n",
    "It corresponds to https://annex.softwareheritage.org/public/dataset/graph/2020-12-15/compressed/ (same as Table 1)\n",
    "\n",
    "**TODO** Confirm that these numbers do not come from a calculation based on the distributions but from the raw data, and provide script to generate them from raw data. Fill object to be used in script below for automatic integrity check.\n",
    "\n",
    "|Layer|Node type|Nodes|%|\n",
    "|:------|:------|------:|---:|\n",
    "|hosting|origins|147 453 557|0.76%|\n",
    "||snapshots|139 832 772|0.72%|\n",
    "|history|releases|16 539 537|0.09%|\n",
    "||commits|1 976 476 233|10.22%|\n",
    "|filesystem|directories|7 897 590 134|40.86%|\n",
    "||contents|9 152 847 293|47.35%|\n",
    "||Total|19 330 739 526|100%|\n",
    "\n",
    "|Layer|Edge type|Edges|%|\n",
    "|:------|:------|------:|---:|\n",
    "|hosting|origin $\\to$ snapshot|776 112 709|0.35%|\n",
    "||snapshot   $\\to$ commit|1 358 538 567|0.61%|\n",
    "||snapshot   $\\to$ release|70 0823 546|0.32%|\n",
    "|history|release    $\\to$ commit|16 492 908|0.01%|\n",
    "||commit     $\\to$ commit|2 021 009 703|0.91%|\n",
    "||commit     $\\to$ directory|1 971 187 167|0.89%|\n",
    "|filesystem|directory  $\\to$ directory|64 584 351 336|29.16%|\n",
    "||directory  $\\to$ commit|792 196 260|0.36%|\n",
    "||directory  $\\to$ content|149 267 317 723|67.39%|\n",
    "||Total|221 488 073 659|100%|"
   ]
  },
  {
   "cell_type": "code",
   "execution_count": 1,
   "id": "04d4d966-3764-44b0-b756-53bdbabec1e6",
   "metadata": {},
   "outputs": [],
   "source": [
    "#compress dataet 2021-12-15\n",
    "rawstats={\"nodes\":\n",
    "          {\n",
    "              \"origin\":147453557,\n",
    "              \"snapshot\":139832772,\n",
    "              \"release\":16539537,\n",
    "              \"commit\":1976476233,\n",
    "              \"directory\":7897590134,\n",
    "              \"content\":9152847293\n",
    "          },\n",
    "          \"edges\":{\n",
    "              \"origin\":{\"snapshot\":776112709},\n",
    "              \"snapshot\":{\"commit\":1358538567,\"release\":700823546},\n",
    "              \"release\":{\"commit\":16492908},\n",
    "              \"commit\":{\"commit\":2021009703,\"directory\":1971187167},\n",
    "              \"directory\":{\"directory\":64584351336,\"commit\":792196260,\"content\":149267317723}\n",
    "          }\n",
    "         }"
   ]
  },
  {
   "cell_type": "markdown",
   "id": "5c4df511-1f71-4c03-8546-f6954d494c1f",
   "metadata": {},
   "source": [
    "### Criteria list\n",
    "Here are a few examples of criteria that can be checked on the table:\n",
    "\n",
    "1. The number of nodes computed from the distributions (= the sum of the second column) is always the same in all distributions starting from the same node type. For instance, `dir_in_*` and `dir_out_*` all have the same number of directory nodes which have to be equals to the number of directory nodes in the raw swh dataset (namely 7 897 590 134).\n",
    "2. The total or average in/outdegree of a given object type is consistent when each neighbor type is looked independently and when they are all aggregated together (e.g. the average degree of `dir_out_all` is a weighted average of the average degrees of the `dir_out_{cnt,dir,rev}` distributions).\n",
    "3. The number of objects with a total indegree of 0 should be small in all types of objects that are supposed to be reachable from the upper layers of the graph.\n",
    "4. Some specific per-layer indegrees are expected to be relatively small compared to the total number of objects (e.g. most revisions do not have an associated release)"
   ]
  },
  {
   "cell_type": "code",
   "execution_count": 3,
   "id": "ec9822e8",
   "metadata": {},
   "outputs": [
    {
     "data": {
      "text/html": [
       "<table>\n",
       "<thead>\n",
       "<tr><th>Node type  </th><th>Direction  </th><th>Neighbor type  </th><th># Nodes      </th><th># Edges        </th><th style=\"text-align: right;\">  Avg degree</th><th># (Lowest degree)  </th><th># (Second-lowest)  </th></tr>\n",
       "</thead>\n",
       "<tbody>\n",
       "<tr><td>contents   </td><td>← in       </td><td>directories    </td><td>9,152,847,293</td><td>143,786,784,566</td><td style=\"text-align: right;\">  15.7095   </td><td>5,978,249,005 (1)  </td><td>1,098,223,970 (2)  </td></tr>\n",
       "<tr><td>directories</td><td>← in       </td><td>everything     </td><td>7,897,590,134</td><td>65,200,402,547 </td><td style=\"text-align: right;\">   8.25573  </td><td>1,343,830 (0)      </td><td>6,134,767,929 (1)  </td></tr>\n",
       "<tr><td>directories</td><td>← in       </td><td>directories    </td><td>7,897,590,134</td><td>63,229,213,027 </td><td style=\"text-align: right;\">   8.00614  </td><td>1,607,262,793 (0)  </td><td>4,669,554,466 (1)  </td></tr>\n",
       "<tr><td>directories</td><td>← in       </td><td>revisions      </td><td>7,897,590,134</td><td>1,971,187,167  </td><td style=\"text-align: right;\">   0.249594 </td><td>6,261,880,169 (0)  </td><td>1,504,272,429 (1)  </td></tr>\n",
       "<tr><td>directories</td><td>→ out      </td><td>everything     </td><td>7,897,590,134</td><td>207,805,470,722</td><td style=\"text-align: right;\">  26.3125   </td><td>557,087 (0)        </td><td>1,713,055,834 (1)  </td></tr>\n",
       "<tr><td>directories</td><td>→ out      </td><td>contents       </td><td>7,897,590,134</td><td>143,786,781,408</td><td style=\"text-align: right;\">  18.2064   </td><td>1,787,869,540 (0)  </td><td>1,421,143,792 (1)  </td></tr>\n",
       "<tr><td>directories</td><td>→ out      </td><td>directories    </td><td>7,897,590,134</td><td>63,229,213,027 </td><td style=\"text-align: right;\">   8.00614  </td><td>2,753,589,255 (0)  </td><td>1,734,567,306 (1)  </td></tr>\n",
       "<tr><td>directories</td><td>→ out      </td><td>revisions      </td><td>7,897,590,134</td><td>789,473,873    </td><td style=\"text-align: right;\">   0.0999639</td><td>7,860,017,187 (0)  </td><td>23,267,141 (1)     </td></tr>\n",
       "<tr><td>origins    </td><td>→ out      </td><td>snapshots      </td><td>147,453,557  </td><td>189,314,705    </td><td style=\"text-align: right;\">   1.28389  </td><td>22,710,546 (0)     </td><td>77,244,971 (1)     </td></tr>\n",
       "<tr><td>releases   </td><td>← in       </td><td>snapshots      </td><td>16,539,537   </td><td>700,135,072    </td><td style=\"text-align: right;\">  42.331    </td><td>427,531 (0)        </td><td>4,408,973 (1)      </td></tr>\n",
       "<tr><td>revisions  </td><td>← in       </td><td>everything     </td><td>1,976,476,233</td><td>3,972,106,851  </td><td style=\"text-align: right;\">   2.00969  </td><td>21,591,750 (0)     </td><td>1,725,674,679 (1)  </td></tr>\n",
       "<tr><td>revisions  </td><td>← in       </td><td>directories    </td><td>1,976,476,233</td><td>789,473,873    </td><td style=\"text-align: right;\">   0.399435 </td><td>1,964,431,618 (0)  </td><td>5,859,359 (1)      </td></tr>\n",
       "<tr><td>revisions  </td><td>← in       </td><td>releases       </td><td>1,976,476,233</td><td>16,492,908     </td><td style=\"text-align: right;\">   0.0083446</td><td>1,964,753,264 (0)  </td><td>11,174,521 (1)     </td></tr>\n",
       "<tr><td>revisions  </td><td>← in       </td><td>revisions      </td><td>1,976,476,233</td><td>2,019,963,947  </td><td style=\"text-align: right;\">   1.022    </td><td>144,984,204 (0)    </td><td>1,709,984,716 (1)  </td></tr>\n",
       "<tr><td>revisions  </td><td>← in       </td><td>snapshots      </td><td>1,976,476,233</td><td>1,146,176,123  </td><td style=\"text-align: right;\">   0.579909 </td><td>1,797,791,879 (0)  </td><td>97,843,227 (1)     </td></tr>\n",
       "<tr><td>revisions  </td><td>→ out      </td><td>revisions      </td><td>1,976,476,233</td><td>2,019,963,947  </td><td style=\"text-align: right;\">   1.022    </td><td>90,031,800 (0)     </td><td>1,753,640,553 (1)  </td></tr>\n",
       "<tr><td>snapshots  </td><td>← in       </td><td>origins        </td><td>139,832,772  </td><td>189,320,602    </td><td style=\"text-align: right;\">   1.35391  </td><td>53,736 (0)         </td><td>129,905,452 (1)    </td></tr>\n",
       "<tr><td>snapshots  </td><td>→ out      </td><td>everything     </td><td>139,832,772  </td><td>1,846,275,796  </td><td style=\"text-align: right;\">  13.2035   </td><td>43,567 (0)         </td><td>90,198,552 (1)     </td></tr>\n",
       "<tr><td>snapshots  </td><td>→ out      </td><td>releases       </td><td>139,832,772  </td><td>700,096,853    </td><td style=\"text-align: right;\">   5.00667  </td><td>127,431,334 (0)    </td><td>2,406,919 (1)      </td></tr>\n",
       "<tr><td>snapshots  </td><td>→ out      </td><td>revisions      </td><td>139,832,772  </td><td>1,146,176,123  </td><td style=\"text-align: right;\">   8.19676  </td><td>44,064 (0)         </td><td>92,104,696 (1)     </td></tr>\n",
       "</tbody>\n",
       "</table>"
      ],
      "text/plain": [
       "<IPython.core.display.HTML object>"
      ]
     },
     "metadata": {},
     "output_type": "display_data"
    }
   ],
   "source": [
    "inout_per_type = [\n",
    "    'cnt_in_dir',\n",
    "    'dir_in_all',\n",
    "    'dir_in_dir',\n",
    "    'dir_in_rev',\n",
    "    'dir_out_all',\n",
    "    'dir_out_cnt',\n",
    "    'dir_out_dir',\n",
    "    'dir_out_rev',\n",
    "    'ori_out_snp',\n",
    "    'rel_in_snp',\n",
    "    'rev_in_all',\n",
    "    'rev_in_dir',\n",
    "    'rev_in_rel',\n",
    "    'rev_in_rev',\n",
    "    'rev_in_snp',\n",
    "    'rev_out_rev',\n",
    "    'snp_in_ori',\n",
    "    'snp_out_all',\n",
    "    'snp_out_rel',\n",
    "    'snp_out_rev',\n",
    "]\n",
    "\n",
    "headers = [\"Node type\", \"Direction\", \"Neighbor type\", \"# Nodes\", \"# Edges\", \"Avg degree\", \"# (Lowest degree)\", \"# (Second-lowest)\"]\n",
    "table = []\n",
    "for name in inout_per_type:\n",
    "    dist = d(DATASET / f'inout/per_type/{name}.txt')\n",
    "    src, direction, dst = name.split('_')\n",
    "    row = [\n",
    "        common.types_verbose[src],\n",
    "        (\"← in \" if direction == 'in' else \"→ out \"),\n",
    "        common.types_verbose[dst],\n",
    "        f'{int(np.sum(dist.y)):,}',\n",
    "        f'{int(np.sum(dist.x * dist.y)):,}',\n",
    "        np.sum(dist.x * dist.y) / np.sum(dist.y),\n",
    "        f'{int(dist.y[0]):,} ({int(dist.x[0]):,})',\n",
    "        f'{int(dist.y[1]):,} ({int(dist.x[1]):,})',\n",
    "    ]\n",
    "    table.append(row)\n",
    "\n",
    "display(HTML(tabulate.tabulate(table, headers=headers, tablefmt='html')))"
   ]
  },
  {
   "cell_type": "code",
   "execution_count": null,
   "id": "c27e8b71-c56b-4cbf-bafd-3b1b37d544a5",
   "metadata": {},
   "outputs": [],
   "source": [
    "small script to check sum and everything"
   ]
  },
  {
   "cell_type": "markdown",
   "id": "40cd0019-900d-45ef-83d4-a25816fe67b2",
   "metadata": {},
   "source": [
    "### Discussion \n",
    "\n",
    "Data few examples that works fine et few nodes without ancestors\n",
    "\n",
    "## Data integrity failures ecountered during this study\n",
    "\n",
    "### Error in/out distributions (switch fallthrough bug)\n",
    "\n",
    "\n",
    "https://forge.softwareheritage.org/rDGRPH6ef89157db57834ad94607f3691e43adaa78a21e\n"
   ]
  },
  {
   "cell_type": "markdown",
   "id": "0b53bec5-eb20-44d7-b7c1-9f7bb48e1ca1",
   "metadata": {},
   "source": [
    "### Data integrity: nodes without ancestors / Compression Pipline\n",
    "https://annex.softwareheritage.org/public/dataset/graph/2020-05-20/compressed/ "
   ]
  },
  {
   "cell_type": "markdown",
   "id": "b9894c85-e890-49e9-a47a-30354453dc63",
   "metadata": {},
   "source": [
    "\n",
    "### Data integrity: nodes without ancestors / Raw Dataset\n",
    "\n",
    "By browsing the entire graph, it is possible to list all the nodes without ancestors.  A list of their identifiers and types is available in this replication package (\"./experiments/nodesmissingancestor/*\").\n",
    "\n",
    "https://forge.softwareheritage.org/T3660\n",
    "\n",
    "Dump check\n",
    "\n",
    "rev1000\n",
    "\n"
   ]
  },
  {
   "cell_type": "code",
   "execution_count": null,
   "id": "e4336367-b93b-49f5-a6eb-a594428ceacd",
   "metadata": {},
   "outputs": [],
   "source": []
  }
 ],
 "metadata": {
  "kernelspec": {
   "display_name": "Python 3",
   "language": "python",
   "name": "python3"
  },
  "language_info": {
   "codemirror_mode": {
    "name": "ipython",
    "version": 3
   },
   "file_extension": ".py",
   "mimetype": "text/x-python",
   "name": "python",
   "nbconvert_exporter": "python",
   "pygments_lexer": "ipython3",
   "version": "3.8.5"
  }
 },
 "nbformat": 4,
 "nbformat_minor": 5
}
