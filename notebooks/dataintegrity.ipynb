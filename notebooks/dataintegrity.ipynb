{
 "cells": [
  {
   "cell_type": "code",
   "execution_count": 2,
   "id": "8ef62f31",
   "metadata": {},
   "outputs": [
    {
     "name": "stdout",
     "output_type": "stream",
     "text": [
      "['In-degrees', 'Full', 19330739526.0, 1.86533254168527, 8.476185347059282, 10.145289846721042]\n",
      "['In-degrees', 'Filesystem', 17050437427.0, 1.8629536354077088, 8.476185347059282, 10.027260026665726]\n",
      "['In-degrees', 'Commit', 1976476233.0, 2.2045714713990536, 5.840033915243118, 9.232992228645648]\n",
      "['In-degrees', 'History', 1993015770.0, 2.147624534699223, 5.840033915243118, 9.231551335105111]\n",
      "['In-degrees', 'Hosting', 287286329.0, 2.762557978532109, 7.033493196839657, 8.168813493069143]\n",
      "['Out-degrees', 'Full', 19330739526.0, 1.9475222180971221, 6.014187339865851, 9.962911293268462]\n",
      "['Out-degrees', 'Filesystem', 17050437427.0, 1.9468287770883057, 6.014187339865851, 9.961687475988702]\n",
      "['Out-degrees', 'Commit', 1976476233.0, 5.80822454592631, 5.0, 9.243940579995702]\n",
      "['Out-degrees', 'History', 1993015770.0, 5.80822454592631, 5.0, 9.24801606017141]\n",
      "['Out-degrees', 'Hosting', 287286329.0, 2.2061366957388877, 4.9867135259505, 8.223868817220255]\n",
      "['Connected components', 'Full', 33104255.0, 2.3789818164304863, 10.276523454493796, 7.356227594643367]\n",
      "['Connected components', 'Filesystem', 46286502.0, 2.2533116404273414, 10.219205115389272, 7.54798135824167]\n",
      "['Connected components', 'Commit', 88031649.0, 2.104151128722863, 7.712177646498615, 7.581498742917081]\n",
      "['Connected components', 'History', 88040059.0, 2.1037047577752053, 7.71747277080839, 7.576196084937062]\n",
      "['Connected components', 'Hosting', 108342722.0, 2.9785175427710042, 7.141194295487766, 7.673300434565915]\n",
      "['Clustering coefficient', 'Full', 13792507.0, 2.063720521194882, 5.254422386618327, 7.115420345572827]\n",
      "['Clustering coefficient', 'Filesystem', 13792508.0, 2.1092665983234995, 5.254422386618327, 7.127096015156246]\n",
      "['Clustering coefficient', 'Commit', 13792508.0, 2.5256541826426058, 1.9542425094393248, 7.13775662845405]\n",
      "['Clustering coefficient', 'History', 13792508.0, 2.5256541826426058, 1.9542425094393248, 7.13775662845405]\n",
      "['Shortest path', 'Filesystem', 586361673140.0, 2.2752982998003723, 2.710963118995276, 11.208617802713016]\n",
      "['Shortest path', 'Commit', 172688913.0, 1.5368637485218508, 6.629408885472702, 7.581498742917081]\n"
     ]
    },
    {
     "data": {
      "text/html": [
       "<table>\n",
       "<thead>\n",
       "<tr><th>Algorithm             </th><th>Layer     </th><th style=\"text-align: right;\">  Number of objects</th><th style=\"text-align: right;\">  Scaling parameter</th><th style=\"text-align: right;\">  X decades</th><th style=\"text-align: right;\">  Y decades</th></tr>\n",
       "</thead>\n",
       "<tbody>\n",
       "<tr><td>In-degrees            </td><td>Full      </td><td style=\"text-align: right;\">        1.93307e+10</td><td style=\"text-align: right;\">            1.86533</td><td style=\"text-align: right;\">    8.47619</td><td style=\"text-align: right;\">   10.1453 </td></tr>\n",
       "<tr><td>In-degrees            </td><td>Filesystem</td><td style=\"text-align: right;\">        1.70504e+10</td><td style=\"text-align: right;\">            1.86295</td><td style=\"text-align: right;\">    8.47619</td><td style=\"text-align: right;\">   10.0273 </td></tr>\n",
       "<tr><td>In-degrees            </td><td>Commit    </td><td style=\"text-align: right;\">        1.97648e+09</td><td style=\"text-align: right;\">            2.20457</td><td style=\"text-align: right;\">    5.84003</td><td style=\"text-align: right;\">    9.23299</td></tr>\n",
       "<tr><td>In-degrees            </td><td>History   </td><td style=\"text-align: right;\">        1.99302e+09</td><td style=\"text-align: right;\">            2.14762</td><td style=\"text-align: right;\">    5.84003</td><td style=\"text-align: right;\">    9.23155</td></tr>\n",
       "<tr><td>In-degrees            </td><td>Hosting   </td><td style=\"text-align: right;\">        2.87286e+08</td><td style=\"text-align: right;\">            2.76256</td><td style=\"text-align: right;\">    7.03349</td><td style=\"text-align: right;\">    8.16881</td></tr>\n",
       "<tr><td>Out-degrees           </td><td>Full      </td><td style=\"text-align: right;\">        1.93307e+10</td><td style=\"text-align: right;\">            1.94752</td><td style=\"text-align: right;\">    6.01419</td><td style=\"text-align: right;\">    9.96291</td></tr>\n",
       "<tr><td>Out-degrees           </td><td>Filesystem</td><td style=\"text-align: right;\">        1.70504e+10</td><td style=\"text-align: right;\">            1.94683</td><td style=\"text-align: right;\">    6.01419</td><td style=\"text-align: right;\">    9.96169</td></tr>\n",
       "<tr><td>Out-degrees           </td><td>Commit    </td><td style=\"text-align: right;\">        1.97648e+09</td><td style=\"text-align: right;\">            5.80822</td><td style=\"text-align: right;\">    5      </td><td style=\"text-align: right;\">    9.24394</td></tr>\n",
       "<tr><td>Out-degrees           </td><td>History   </td><td style=\"text-align: right;\">        1.99302e+09</td><td style=\"text-align: right;\">            5.80822</td><td style=\"text-align: right;\">    5      </td><td style=\"text-align: right;\">    9.24802</td></tr>\n",
       "<tr><td>Out-degrees           </td><td>Hosting   </td><td style=\"text-align: right;\">        2.87286e+08</td><td style=\"text-align: right;\">            2.20614</td><td style=\"text-align: right;\">    4.98671</td><td style=\"text-align: right;\">    8.22387</td></tr>\n",
       "<tr><td>Connected components  </td><td>Full      </td><td style=\"text-align: right;\">        3.31043e+07</td><td style=\"text-align: right;\">            2.37898</td><td style=\"text-align: right;\">   10.2765 </td><td style=\"text-align: right;\">    7.35623</td></tr>\n",
       "<tr><td>Connected components  </td><td>Filesystem</td><td style=\"text-align: right;\">        4.62865e+07</td><td style=\"text-align: right;\">            2.25331</td><td style=\"text-align: right;\">   10.2192 </td><td style=\"text-align: right;\">    7.54798</td></tr>\n",
       "<tr><td>Connected components  </td><td>Commit    </td><td style=\"text-align: right;\">        8.80316e+07</td><td style=\"text-align: right;\">            2.10415</td><td style=\"text-align: right;\">    7.71218</td><td style=\"text-align: right;\">    7.5815 </td></tr>\n",
       "<tr><td>Connected components  </td><td>History   </td><td style=\"text-align: right;\">        8.80401e+07</td><td style=\"text-align: right;\">            2.1037 </td><td style=\"text-align: right;\">    7.71747</td><td style=\"text-align: right;\">    7.5762 </td></tr>\n",
       "<tr><td>Connected components  </td><td>Hosting   </td><td style=\"text-align: right;\">        1.08343e+08</td><td style=\"text-align: right;\">            2.97852</td><td style=\"text-align: right;\">    7.14119</td><td style=\"text-align: right;\">    7.6733 </td></tr>\n",
       "<tr><td>Clustering coefficient</td><td>Full      </td><td style=\"text-align: right;\">        1.37925e+07</td><td style=\"text-align: right;\">            2.06372</td><td style=\"text-align: right;\">    5.25442</td><td style=\"text-align: right;\">    7.11542</td></tr>\n",
       "<tr><td>Clustering coefficient</td><td>Filesystem</td><td style=\"text-align: right;\">        1.37925e+07</td><td style=\"text-align: right;\">            2.10927</td><td style=\"text-align: right;\">    5.25442</td><td style=\"text-align: right;\">    7.1271 </td></tr>\n",
       "<tr><td>Clustering coefficient</td><td>Commit    </td><td style=\"text-align: right;\">        1.37925e+07</td><td style=\"text-align: right;\">            2.52565</td><td style=\"text-align: right;\">    1.95424</td><td style=\"text-align: right;\">    7.13776</td></tr>\n",
       "<tr><td>Clustering coefficient</td><td>History   </td><td style=\"text-align: right;\">        1.37925e+07</td><td style=\"text-align: right;\">            2.52565</td><td style=\"text-align: right;\">    1.95424</td><td style=\"text-align: right;\">    7.13776</td></tr>\n",
       "<tr><td>Shortest path         </td><td>Filesystem</td><td style=\"text-align: right;\">        5.86362e+11</td><td style=\"text-align: right;\">            2.2753 </td><td style=\"text-align: right;\">    2.71096</td><td style=\"text-align: right;\">   11.2086 </td></tr>\n",
       "<tr><td>Shortest path         </td><td>Commit    </td><td style=\"text-align: right;\">        1.72689e+08</td><td style=\"text-align: right;\">            1.53686</td><td style=\"text-align: right;\">    6.62941</td><td style=\"text-align: right;\">    7.5815 </td></tr>\n",
       "</tbody>\n",
       "</table>"
      ],
      "text/plain": [
       "<IPython.core.display.HTML object>"
      ]
     },
     "metadata": {},
     "output_type": "display_data"
    }
   ],
   "source": [
    "from pathlib import Path\n",
    "import matplotlib.pyplot as plt\n",
    "import numpy as np\n",
    "import tabulate\n",
    "from IPython.display import HTML, display\n",
    "\n",
    "import common\n",
    "\n",
    "\n",
    "DATASET = Path('../experiments')\n",
    "\n",
    "def d(p):\n",
    "    x, y = common.load_text_distribution(p)\n",
    "    return common.Distribution(x, y, '', '', '')\n",
    "\n",
    "distributions = {\n",
    "    'In-degrees': [\n",
    "        (\"Full\", d(DATASET / 'inout/full_in.txt')),\n",
    "        (\"Filesystem\", d(DATASET / 'inout/dir+cnt_in.txt')),\n",
    "        (\"Commit\", d(DATASET / 'inout/rev_in.txt')),\n",
    "        (\"History\", d(DATASET / 'inout/rel+rev_in.txt')),\n",
    "        (\"Hosting\", d(DATASET / 'inout/ori+snp_in.txt')),\n",
    "    ],\n",
    "    'Out-degrees': [\n",
    "        (\"Full\", d(DATASET / 'inout/full_out.txt')),\n",
    "        (\"Filesystem\", d(DATASET / 'inout/dir+cnt_out.txt')),\n",
    "        (\"Commit\", d(DATASET / 'inout/rev_out.txt')),\n",
    "        (\"History\", d(DATASET / 'inout/rel+rev_out.txt')),\n",
    "        (\"Hosting\", d(DATASET / 'inout/ori+snp_out.txt')),\n",
    "    ],\n",
    "    'Connected components': [\n",
    "        (\"Full\", d(DATASET / 'connectedcomponents/full/distribution.txt')),\n",
    "        (\"Filesystem\", d(DATASET / 'connectedcomponents/dir+cnt/distribution.txt')),\n",
    "        (\"Commit\", d(DATASET / 'connectedcomponents/rev/distribution.txt')),\n",
    "        (\"History\", d(DATASET / 'connectedcomponents/rel+rev/distribution.txt')),\n",
    "        (\"Hosting\", d(DATASET / 'connectedcomponents/ori+snp/distribution.txt')),\n",
    "    ],\n",
    "    'Clustering coefficient': [\n",
    "        (\"Full\", d(DATASET / 'clusteringcoeff/distribution-full.txt')),\n",
    "        (\"Filesystem\", d(DATASET / 'clusteringcoeff/distribution-dircnt.txt')),\n",
    "        (\"Commit\", d(DATASET / 'clusteringcoeff/distribution-rev.txt')),\n",
    "        (\"History\", d(DATASET / 'clusteringcoeff/distribution-relrev.txt')),\n",
    "        # (\"Hosting\", d(DATASET / 'clusteringcoeff/distribution-orisnp.txt')),\n",
    "    ],\n",
    "    'Shortest path': [\n",
    "        (\"Filesystem\", d(DATASET / 'shortestpath/dir+cnt/distribution.txt')),\n",
    "        (\"Commit\", d(DATASET / 'shortestpath/rev/distribution.txt')),\n",
    "    ]\n",
    "}\n",
    "\n"
   ]
  },
  {
   "cell_type": "markdown",
   "id": "d86f148f",
   "metadata": {},
   "source": [
    "## Data integrity: object statistics"
   ]
  },
  {
   "cell_type": "code",
   "execution_count": 6,
   "id": "038c8929",
   "metadata": {},
   "outputs": [
    {
     "data": {
      "text/html": [
       "<table>\n",
       "<thead>\n",
       "<tr><th>Algorithm             </th><th>Layer     </th><th style=\"text-align: right;\">  Number of objects</th><th style=\"text-align: right;\">  Scaling parameter</th><th style=\"text-align: right;\">  X decades</th><th style=\"text-align: right;\">  Y decades</th></tr>\n",
       "</thead>\n",
       "<tbody>\n",
       "<tr><td>In-degrees            </td><td>Full      </td><td style=\"text-align: right;\">        1.93307e+10</td><td style=\"text-align: right;\">            1.86533</td><td style=\"text-align: right;\">    8.47619</td><td style=\"text-align: right;\">   10.1453 </td></tr>\n",
       "<tr><td>In-degrees            </td><td>Filesystem</td><td style=\"text-align: right;\">        1.70504e+10</td><td style=\"text-align: right;\">            1.86295</td><td style=\"text-align: right;\">    8.47619</td><td style=\"text-align: right;\">   10.0273 </td></tr>\n",
       "<tr><td>In-degrees            </td><td>Commit    </td><td style=\"text-align: right;\">        1.97648e+09</td><td style=\"text-align: right;\">            2.20457</td><td style=\"text-align: right;\">    5.84003</td><td style=\"text-align: right;\">    9.23299</td></tr>\n",
       "<tr><td>In-degrees            </td><td>History   </td><td style=\"text-align: right;\">        1.99302e+09</td><td style=\"text-align: right;\">            2.14762</td><td style=\"text-align: right;\">    5.84003</td><td style=\"text-align: right;\">    9.23155</td></tr>\n",
       "<tr><td>In-degrees            </td><td>Hosting   </td><td style=\"text-align: right;\">        2.87286e+08</td><td style=\"text-align: right;\">            2.76256</td><td style=\"text-align: right;\">    7.03349</td><td style=\"text-align: right;\">    8.16881</td></tr>\n",
       "<tr><td>Out-degrees           </td><td>Full      </td><td style=\"text-align: right;\">        1.93307e+10</td><td style=\"text-align: right;\">            1.94752</td><td style=\"text-align: right;\">    6.01419</td><td style=\"text-align: right;\">    9.96291</td></tr>\n",
       "<tr><td>Out-degrees           </td><td>Filesystem</td><td style=\"text-align: right;\">        1.70504e+10</td><td style=\"text-align: right;\">            1.94683</td><td style=\"text-align: right;\">    6.01419</td><td style=\"text-align: right;\">    9.96169</td></tr>\n",
       "<tr><td>Out-degrees           </td><td>Commit    </td><td style=\"text-align: right;\">        1.97648e+09</td><td style=\"text-align: right;\">            5.80822</td><td style=\"text-align: right;\">    5      </td><td style=\"text-align: right;\">    9.24394</td></tr>\n",
       "<tr><td>Out-degrees           </td><td>History   </td><td style=\"text-align: right;\">        1.99302e+09</td><td style=\"text-align: right;\">            5.80822</td><td style=\"text-align: right;\">    5      </td><td style=\"text-align: right;\">    9.24802</td></tr>\n",
       "<tr><td>Out-degrees           </td><td>Hosting   </td><td style=\"text-align: right;\">        2.87286e+08</td><td style=\"text-align: right;\">            2.20614</td><td style=\"text-align: right;\">    4.98671</td><td style=\"text-align: right;\">    8.22387</td></tr>\n",
       "<tr><td>Connected components  </td><td>Full      </td><td style=\"text-align: right;\">        3.31043e+07</td><td style=\"text-align: right;\">            2.37898</td><td style=\"text-align: right;\">   10.2765 </td><td style=\"text-align: right;\">    7.35623</td></tr>\n",
       "<tr><td>Connected components  </td><td>Filesystem</td><td style=\"text-align: right;\">        4.62865e+07</td><td style=\"text-align: right;\">            2.25331</td><td style=\"text-align: right;\">   10.2192 </td><td style=\"text-align: right;\">    7.54798</td></tr>\n",
       "<tr><td>Connected components  </td><td>Commit    </td><td style=\"text-align: right;\">        8.80316e+07</td><td style=\"text-align: right;\">            2.10415</td><td style=\"text-align: right;\">    7.71218</td><td style=\"text-align: right;\">    7.5815 </td></tr>\n",
       "<tr><td>Connected components  </td><td>History   </td><td style=\"text-align: right;\">        8.80401e+07</td><td style=\"text-align: right;\">            2.1037 </td><td style=\"text-align: right;\">    7.71747</td><td style=\"text-align: right;\">    7.5762 </td></tr>\n",
       "<tr><td>Connected components  </td><td>Hosting   </td><td style=\"text-align: right;\">        1.08343e+08</td><td style=\"text-align: right;\">            2.97852</td><td style=\"text-align: right;\">    7.14119</td><td style=\"text-align: right;\">    7.6733 </td></tr>\n",
       "<tr><td>Clustering coefficient</td><td>Full      </td><td style=\"text-align: right;\">        1.37925e+07</td><td style=\"text-align: right;\">            2.06372</td><td style=\"text-align: right;\">    5.25442</td><td style=\"text-align: right;\">    7.11542</td></tr>\n",
       "<tr><td>Clustering coefficient</td><td>Filesystem</td><td style=\"text-align: right;\">        1.37925e+07</td><td style=\"text-align: right;\">            2.10927</td><td style=\"text-align: right;\">    5.25442</td><td style=\"text-align: right;\">    7.1271 </td></tr>\n",
       "<tr><td>Clustering coefficient</td><td>Commit    </td><td style=\"text-align: right;\">        1.37925e+07</td><td style=\"text-align: right;\">            2.52565</td><td style=\"text-align: right;\">    1.95424</td><td style=\"text-align: right;\">    7.13776</td></tr>\n",
       "<tr><td>Clustering coefficient</td><td>History   </td><td style=\"text-align: right;\">        1.37925e+07</td><td style=\"text-align: right;\">            2.52565</td><td style=\"text-align: right;\">    1.95424</td><td style=\"text-align: right;\">    7.13776</td></tr>\n",
       "<tr><td>Shortest path         </td><td>Filesystem</td><td style=\"text-align: right;\">        5.86362e+11</td><td style=\"text-align: right;\">            2.2753 </td><td style=\"text-align: right;\">    2.71096</td><td style=\"text-align: right;\">   11.2086 </td></tr>\n",
       "<tr><td>Shortest path         </td><td>Commit    </td><td style=\"text-align: right;\">        1.72689e+08</td><td style=\"text-align: right;\">            1.53686</td><td style=\"text-align: right;\">    6.62941</td><td style=\"text-align: right;\">    7.5815 </td></tr>\n",
       "</tbody>\n",
       "</table>"
      ],
      "text/plain": [
       "<IPython.core.display.HTML object>"
      ]
     },
     "metadata": {},
     "output_type": "display_data"
    }
   ],
   "source": [
    "headers = [\"Algorithm\", \"Layer\", \"Number of objects\", \"Scaling parameter\", \"X decades\", \"Y decades\"]\n",
    "table = []\n",
    "for algo_name, algo_distributions in distributions.items():\n",
    "    # table.append([f'{algo_name}'])\n",
    "    for name, distribution in algo_distributions:\n",
    "        row = [\n",
    "            algo_name,\n",
    "            name,\n",
    "            np.sum(distribution.y),\n",
    "            distribution.fitted_power(),\n",
    "            np.log10(np.max(distribution.x)),\n",
    "            np.log10(np.max(distribution.y)),\n",
    "        ]\n",
    "        table.append(row)\n",
    "\n",
    "display(HTML(tabulate.tabulate(table, headers=headers, tablefmt='html')))"
   ]
  },
  {
   "cell_type": "markdown",
   "id": "ffe4ba15",
   "metadata": {},
   "source": [
    "## Data integrity: in and out degrees\n",
    "\n",
    "This data helps getting an overview of the graph properties and check whether it is consistent to our expectations as a way to perform data integrity checks.\n",
    "\n",
    "Here are a few examples of criteria that can be checked on the following table:\n",
    "\n",
    "- The number of objects computed from the distributions (= the sum of the second column) is always the same in all distributions starting from the same object type. For instance, dir_in_* and dir_out_* all have the same number of objects.\n",
    "- The average in/outdegree of a given object type is consistent when each neighbor type is looked independently and when they are all aggregated together (e.g. the average degree of dir_out_all is a weighted average of the average degrees of the dir_out_{cnt,dir,rev} distributions).\n",
    "- The number of objects with a total indegree of 0 should be small in all types of objects that are supposed to be reachable from the upper layers of the graph.\n",
    "- Some specific per-layer indegrees are expected to be relatively small compared to the total number of objects (e.g. most revisions do not have an associated release)"
   ]
  },
  {
   "cell_type": "code",
   "execution_count": 27,
   "id": "fcb8b161",
   "metadata": {},
   "outputs": [
    {
     "data": {
      "text/html": [
       "<table>\n",
       "<thead>\n",
       "<tr><th>Node type  </th><th>Direction  </th><th>Neighbor type  </th><th style=\"text-align: right;\">   # Nodes</th><th style=\"text-align: right;\">     # Edges</th><th style=\"text-align: right;\">  Avg degree</th><th># Lowest degree  </th><th># Second-lowest  </th></tr>\n",
       "</thead>\n",
       "<tbody>\n",
       "<tr><td>contents   </td><td>← in ←     </td><td>directories    </td><td style=\"text-align: right;\">9152847293</td><td style=\"text-align: right;\">143786784566</td><td style=\"text-align: right;\">  15.7095   </td><td>5978249005 (1)   </td><td>1098223970 (2)   </td></tr>\n",
       "<tr><td>directories</td><td>← in ←     </td><td>everything     </td><td style=\"text-align: right;\">7897590134</td><td style=\"text-align: right;\"> 65200402547</td><td style=\"text-align: right;\">   8.25573  </td><td>1343830 (0)      </td><td>6134767929 (1)   </td></tr>\n",
       "<tr><td>directories</td><td>← in ←     </td><td>directories    </td><td style=\"text-align: right;\">7897590134</td><td style=\"text-align: right;\"> 63229213027</td><td style=\"text-align: right;\">   8.00614  </td><td>1607262793 (0)   </td><td>4669554466 (1)   </td></tr>\n",
       "<tr><td>directories</td><td>← in ←     </td><td>revisions      </td><td style=\"text-align: right;\">7897590134</td><td style=\"text-align: right;\">  1971187167</td><td style=\"text-align: right;\">   0.249594 </td><td>6261880169 (0)   </td><td>1504272429 (1)   </td></tr>\n",
       "<tr><td>directories</td><td>→ out →    </td><td>everything     </td><td style=\"text-align: right;\">7897590134</td><td style=\"text-align: right;\">207805470722</td><td style=\"text-align: right;\">  26.3125   </td><td>557087 (0)       </td><td>1713055834 (1)   </td></tr>\n",
       "<tr><td>directories</td><td>→ out →    </td><td>contents       </td><td style=\"text-align: right;\">7897590134</td><td style=\"text-align: right;\">143786781408</td><td style=\"text-align: right;\">  18.2064   </td><td>1787869540 (0)   </td><td>1421143792 (1)   </td></tr>\n",
       "<tr><td>directories</td><td>→ out →    </td><td>directories    </td><td style=\"text-align: right;\">7897590134</td><td style=\"text-align: right;\"> 63229213027</td><td style=\"text-align: right;\">   8.00614  </td><td>2753589255 (0)   </td><td>1734567306 (1)   </td></tr>\n",
       "<tr><td>directories</td><td>→ out →    </td><td>revisions      </td><td style=\"text-align: right;\">7897590134</td><td style=\"text-align: right;\">   789473873</td><td style=\"text-align: right;\">   0.0999639</td><td>7860017187 (0)   </td><td>23267141 (1)     </td></tr>\n",
       "<tr><td>origins    </td><td>→ out →    </td><td>snapshots      </td><td style=\"text-align: right;\"> 147453557</td><td style=\"text-align: right;\">   189314705</td><td style=\"text-align: right;\">   1.28389  </td><td>22710546 (0)     </td><td>77244971 (1)     </td></tr>\n",
       "<tr><td>releases   </td><td>← in ←     </td><td>snapshots      </td><td style=\"text-align: right;\">  16539537</td><td style=\"text-align: right;\">   700135072</td><td style=\"text-align: right;\">  42.331    </td><td>427531 (0)       </td><td>4408973 (1)      </td></tr>\n",
       "<tr><td>revisions  </td><td>← in ←     </td><td>everything     </td><td style=\"text-align: right;\">1976476233</td><td style=\"text-align: right;\">  3972106851</td><td style=\"text-align: right;\">   2.00969  </td><td>21591750 (0)     </td><td>1725674679 (1)   </td></tr>\n",
       "<tr><td>revisions  </td><td>← in ←     </td><td>directories    </td><td style=\"text-align: right;\">1976476233</td><td style=\"text-align: right;\">   789473873</td><td style=\"text-align: right;\">   0.399435 </td><td>1964431618 (0)   </td><td>5859359 (1)      </td></tr>\n",
       "<tr><td>revisions  </td><td>← in ←     </td><td>releases       </td><td style=\"text-align: right;\">1976476233</td><td style=\"text-align: right;\">    16492908</td><td style=\"text-align: right;\">   0.0083446</td><td>1964753264 (0)   </td><td>11174521 (1)     </td></tr>\n",
       "<tr><td>revisions  </td><td>← in ←     </td><td>revisions      </td><td style=\"text-align: right;\">1976476233</td><td style=\"text-align: right;\">  2019963947</td><td style=\"text-align: right;\">   1.022    </td><td>144984204 (0)    </td><td>1709984716 (1)   </td></tr>\n",
       "<tr><td>revisions  </td><td>← in ←     </td><td>snapshots      </td><td style=\"text-align: right;\">1976476233</td><td style=\"text-align: right;\">  1146176123</td><td style=\"text-align: right;\">   0.579909 </td><td>1797791879 (0)   </td><td>97843227 (1)     </td></tr>\n",
       "<tr><td>revisions  </td><td>→ out →    </td><td>revisions      </td><td style=\"text-align: right;\">1976476233</td><td style=\"text-align: right;\">  2019963947</td><td style=\"text-align: right;\">   1.022    </td><td>90031800 (0)     </td><td>1753640553 (1)   </td></tr>\n",
       "<tr><td>snapshots  </td><td>← in ←     </td><td>origins        </td><td style=\"text-align: right;\"> 139832772</td><td style=\"text-align: right;\">   189320602</td><td style=\"text-align: right;\">   1.35391  </td><td>53736 (0)        </td><td>129905452 (1)    </td></tr>\n",
       "<tr><td>snapshots  </td><td>→ out →    </td><td>everything     </td><td style=\"text-align: right;\"> 139832772</td><td style=\"text-align: right;\">  1846275796</td><td style=\"text-align: right;\">  13.2035   </td><td>43567 (0)        </td><td>90198552 (1)     </td></tr>\n",
       "<tr><td>snapshots  </td><td>→ out →    </td><td>releases       </td><td style=\"text-align: right;\"> 139832772</td><td style=\"text-align: right;\">   700096853</td><td style=\"text-align: right;\">   5.00667  </td><td>127431334 (0)    </td><td>2406919 (1)      </td></tr>\n",
       "<tr><td>snapshots  </td><td>→ out →    </td><td>revisions      </td><td style=\"text-align: right;\"> 139832772</td><td style=\"text-align: right;\">  1146176123</td><td style=\"text-align: right;\">   8.19676  </td><td>44064 (0)        </td><td>92104696 (1)     </td></tr>\n",
       "</tbody>\n",
       "</table>"
      ],
      "text/plain": [
       "<IPython.core.display.HTML object>"
      ]
     },
     "metadata": {},
     "output_type": "display_data"
    }
   ],
   "source": [
    "inout_per_type = [\n",
    "    'cnt_in_dir',\n",
    "    'dir_in_all',\n",
    "    'dir_in_dir',\n",
    "    'dir_in_rev',\n",
    "    'dir_out_all',\n",
    "    'dir_out_cnt',\n",
    "    'dir_out_dir',\n",
    "    'dir_out_rev',\n",
    "    'ori_out_snp',\n",
    "    'rel_in_snp',\n",
    "    'rev_in_all',\n",
    "    'rev_in_dir',\n",
    "    'rev_in_rel',\n",
    "    'rev_in_rev',\n",
    "    'rev_in_snp',\n",
    "    'rev_out_rev',\n",
    "    'snp_in_ori',\n",
    "    'snp_out_all',\n",
    "    'snp_out_rel',\n",
    "    'snp_out_rev',\n",
    "]\n",
    "\n",
    "headers = [\"Node type\", \"Direction\", \"Neighbor type\", \"# Nodes\", \"# Edges\", \"Avg degree\", \"# Lowest degree\", \"# Second-lowest\"]\n",
    "table = []\n",
    "for name in inout_per_type:\n",
    "    dist = d(DATASET / f'inout/per_type/{name}.txt')\n",
    "    src, direction, dst = name.split('_')\n",
    "    row = [\n",
    "        # (\"Indegrees\" if direction == 'in' else \"Outdegrees\"),\n",
    "        common.types_verbose[src],\n",
    "        (\"← in ←\" if direction == 'in' else \"→ out →\"),\n",
    "        common.types_verbose[dst],\n",
    "        int(np.sum(dist.y)),\n",
    "        int(np.sum(dist.x * dist.y)),\n",
    "        np.sum(dist.x * dist.y) / np.sum(dist.y),\n",
    "        f'{int(dist.y[0])} ({int(dist.x[0])})',\n",
    "        f'{int(dist.y[1])} ({int(dist.x[1])})',\n",
    "        # }   :  ratio= {int(100*np.sum(x*y)/np.sum(y))/100:<6} :    {int(x[0])} =>{int(y[0]):16,}   {int(x[1])} =>{int(y[1]):16,}')\n",
    "    ]\n",
    "    table.append(row)\n",
    "\n",
    "display(HTML(tabulate.tabulate(table, headers=headers, tablefmt='html')))"
   ]
  },
  {
   "cell_type": "code",
   "execution_count": null,
   "id": "6172d069",
   "metadata": {},
   "outputs": [],
   "source": []
  }
 ],
 "metadata": {
  "kernelspec": {
   "display_name": "Python 3 (ipykernel)",
   "language": "python",
   "name": "python3"
  },
  "language_info": {
   "codemirror_mode": {
    "name": "ipython",
    "version": 3
   },
   "file_extension": ".py",
   "mimetype": "text/x-python",
   "name": "python",
   "nbconvert_exporter": "python",
   "pygments_lexer": "ipython3",
   "version": "3.10.1"
  }
 },
 "nbformat": 4,
 "nbformat_minor": 5
}
